{
  "nbformat": 4,
  "nbformat_minor": 0,
  "metadata": {
    "colab": {
      "provenance": [],
      "authorship_tag": "ABX9TyNvH9IyGUoiBKrm0fPsytMY",
      "include_colab_link": true
    },
    "kernelspec": {
      "name": "python3",
      "display_name": "Python 3"
    },
    "language_info": {
      "name": "python"
    }
  },
  "cells": [
    {
      "cell_type": "markdown",
      "metadata": {
        "id": "view-in-github",
        "colab_type": "text"
      },
      "source": [
        "<a href=\"https://colab.research.google.com/github/dinky-coder/dinky-coder/blob/main/Intro_to_Python_Lists.ipynb\" target=\"_parent\"><img src=\"https://colab.research.google.com/assets/colab-badge.svg\" alt=\"Open In Colab\"/></a>"
      ]
    },
    {
      "cell_type": "code",
      "execution_count": 2,
      "metadata": {
        "id": "E6jhpezLbRsk"
      },
      "outputs": [],
      "source": [
        "# data structures\n",
        "#a = 10, b=4, c=\"Dhawal\"\n",
        "#gfg - batch - 43 , email , id , how many batches enrolled , grade , address\n",
        "# student 1 - 5 variables\n",
        "# 43*5 variables - 1 batch\n",
        "# 50 batches - 53 * 43 * 5"
      ]
    },
    {
      "cell_type": "markdown",
      "source": [
        "List"
      ],
      "metadata": {
        "id": "BuBejlJafCXd"
      }
    },
    {
      "cell_type": "code",
      "source": [
        "lst = []"
      ],
      "metadata": {
        "id": "i3YabjnpfBMZ"
      },
      "execution_count": 3,
      "outputs": []
    },
    {
      "cell_type": "code",
      "source": [
        "type(lst)"
      ],
      "metadata": {
        "colab": {
          "base_uri": "https://localhost:8080/"
        },
        "id": "qBqK5el2fe_x",
        "outputId": "bbb5b8be-9ec6-4bec-fd71-4f5554221252"
      },
      "execution_count": 4,
      "outputs": [
        {
          "output_type": "execute_result",
          "data": {
            "text/plain": [
              "list"
            ]
          },
          "metadata": {},
          "execution_count": 4
        }
      ]
    },
    {
      "cell_type": "code",
      "source": [
        "lst = [10, 20, 30, 40]\n",
        "print(lst)"
      ],
      "metadata": {
        "colab": {
          "base_uri": "https://localhost:8080/"
        },
        "id": "OSyIcg51ft5V",
        "outputId": "1a697edb-ca35-4585-c2ae-9c1f74533786"
      },
      "execution_count": 5,
      "outputs": [
        {
          "output_type": "stream",
          "name": "stdout",
          "text": [
            "[10, 20, 30, 40]\n"
          ]
        }
      ]
    },
    {
      "cell_type": "code",
      "source": [
        "lst1 = [\"Dhawal\",\"Harsh\",\"Ankur\",1,2,4]\n",
        "print(lst1)"
      ],
      "metadata": {
        "colab": {
          "base_uri": "https://localhost:8080/"
        },
        "id": "h7Z1jKuQfyx8",
        "outputId": "642bc212-fc53-4a91-9492-d86c0ff54841"
      },
      "execution_count": 6,
      "outputs": [
        {
          "output_type": "stream",
          "name": "stdout",
          "text": [
            "['Dhawal', 'Harsh', 'Ankur', 1, 2, 4]\n"
          ]
        }
      ]
    },
    {
      "cell_type": "code",
      "source": [
        "mix_list = [1,\"gfg\",3.14,True]\n",
        "mix_list"
      ],
      "metadata": {
        "colab": {
          "base_uri": "https://localhost:8080/"
        },
        "id": "D8vU1a47gDft",
        "outputId": "8a98474a-daf3-4475-f48e-920c08e621d5"
      },
      "execution_count": 7,
      "outputs": [
        {
          "output_type": "execute_result",
          "data": {
            "text/plain": [
              "[1, 'gfg', 3.14, True]"
            ]
          },
          "metadata": {},
          "execution_count": 7
        }
      ]
    },
    {
      "cell_type": "code",
      "source": [
        "fruits = [\"apple\",\"guava\",\"banana\",\"cherry\",\"grapes\",\"litchi\"]\n",
        "#            0       1        2        3        4       5\n",
        "print(fruits)"
      ],
      "metadata": {
        "colab": {
          "base_uri": "https://localhost:8080/"
        },
        "id": "WhcJM5W1gb5h",
        "outputId": "2f59473d-5eb8-4452-ad7f-902578751b2e"
      },
      "execution_count": 15,
      "outputs": [
        {
          "output_type": "stream",
          "name": "stdout",
          "text": [
            "['apple', 'guava', 'banana', 'cherry', 'grapes', 'litchi']\n"
          ]
        }
      ]
    },
    {
      "cell_type": "code",
      "source": [
        "print(fruits[0])"
      ],
      "metadata": {
        "colab": {
          "base_uri": "https://localhost:8080/"
        },
        "id": "8dUtV4R3g7m5",
        "outputId": "73f67e1a-29f5-405e-b5ee-a4fe0eb335ad"
      },
      "execution_count": 9,
      "outputs": [
        {
          "output_type": "stream",
          "name": "stdout",
          "text": [
            "apple\n"
          ]
        }
      ]
    },
    {
      "cell_type": "code",
      "source": [
        "print(fruits[3])"
      ],
      "metadata": {
        "colab": {
          "base_uri": "https://localhost:8080/"
        },
        "id": "JsRahoHqg-Tp",
        "outputId": "2394496d-cde7-405e-87a2-1ee6666dc677"
      },
      "execution_count": 10,
      "outputs": [
        {
          "output_type": "stream",
          "name": "stdout",
          "text": [
            "cherry\n"
          ]
        }
      ]
    },
    {
      "cell_type": "code",
      "source": [
        "print(fruits[1:])"
      ],
      "metadata": {
        "colab": {
          "base_uri": "https://localhost:8080/"
        },
        "id": "bMxtCDxWhBqb",
        "outputId": "5df190de-9c5a-412a-d90e-ce4ed478ca58"
      },
      "execution_count": 16,
      "outputs": [
        {
          "output_type": "stream",
          "name": "stdout",
          "text": [
            "['guava', 'banana', 'cherry', 'grapes', 'litchi']\n"
          ]
        }
      ]
    },
    {
      "cell_type": "code",
      "source": [
        "# (start index  , end index+1   , step size)\n",
        "fruits[2:4]"
      ],
      "metadata": {
        "colab": {
          "base_uri": "https://localhost:8080/"
        },
        "id": "0kAlwj8PhbG4",
        "outputId": "72cf10ca-1a62-4ab0-988f-3e10a9036e5e"
      },
      "execution_count": 17,
      "outputs": [
        {
          "output_type": "execute_result",
          "data": {
            "text/plain": [
              "['banana', 'cherry']"
            ]
          },
          "metadata": {},
          "execution_count": 17
        }
      ]
    },
    {
      "cell_type": "code",
      "source": [
        "# modify elements in a list -\n",
        "fruits"
      ],
      "metadata": {
        "colab": {
          "base_uri": "https://localhost:8080/"
        },
        "id": "lAiacxgihiPc",
        "outputId": "23f8a8b9-c91f-4f78-f94f-093d1a57b48b"
      },
      "execution_count": 18,
      "outputs": [
        {
          "output_type": "execute_result",
          "data": {
            "text/plain": [
              "['apple', 'guava', 'banana', 'cherry', 'grapes', 'litchi']"
            ]
          },
          "metadata": {},
          "execution_count": 18
        }
      ]
    },
    {
      "cell_type": "code",
      "source": [
        "fruits[1] = \"watermelon\"\n",
        "fruits"
      ],
      "metadata": {
        "colab": {
          "base_uri": "https://localhost:8080/"
        },
        "id": "mKLf8St2h5h8",
        "outputId": "c01fb5b3-aa53-4cb0-9885-9490c707026d"
      },
      "execution_count": 19,
      "outputs": [
        {
          "output_type": "execute_result",
          "data": {
            "text/plain": [
              "['apple', 'watermelon', 'banana', 'cherry', 'grapes', 'litchi']"
            ]
          },
          "metadata": {},
          "execution_count": 19
        }
      ]
    },
    {
      "cell_type": "code",
      "source": [
        "fruits[3] = \"mango\"\n",
        "fruits"
      ],
      "metadata": {
        "colab": {
          "base_uri": "https://localhost:8080/"
        },
        "id": "M1NClXXTiA1Y",
        "outputId": "75502277-d474-4568-f2d7-7f3f346c4a41"
      },
      "execution_count": 20,
      "outputs": [
        {
          "output_type": "execute_result",
          "data": {
            "text/plain": [
              "['apple', 'watermelon', 'banana', 'mango', 'grapes', 'litchi']"
            ]
          },
          "metadata": {},
          "execution_count": 20
        }
      ]
    },
    {
      "cell_type": "code",
      "source": [
        "# add element in a list - append\n",
        "fruits.append(\"orange\")"
      ],
      "metadata": {
        "id": "KBkAJdTjiToN"
      },
      "execution_count": 21,
      "outputs": []
    },
    {
      "cell_type": "code",
      "source": [
        "fruits"
      ],
      "metadata": {
        "colab": {
          "base_uri": "https://localhost:8080/"
        },
        "id": "JmZHLIm7iedB",
        "outputId": "2c56d14e-81fa-4e37-8831-1a42a5572f63"
      },
      "execution_count": 22,
      "outputs": [
        {
          "output_type": "execute_result",
          "data": {
            "text/plain": [
              "['apple', 'watermelon', 'banana', 'mango', 'grapes', 'litchi', 'orange']"
            ]
          },
          "metadata": {},
          "execution_count": 22
        }
      ]
    },
    {
      "cell_type": "code",
      "source": [
        "fruits.append(\"orange\")\n",
        "fruits"
      ],
      "metadata": {
        "colab": {
          "base_uri": "https://localhost:8080/"
        },
        "id": "lKxc34pmih5s",
        "outputId": "a17867bd-6d60-44f7-b524-08be580c31b7"
      },
      "execution_count": 23,
      "outputs": [
        {
          "output_type": "execute_result",
          "data": {
            "text/plain": [
              "['apple',\n",
              " 'watermelon',\n",
              " 'banana',\n",
              " 'mango',\n",
              " 'grapes',\n",
              " 'litchi',\n",
              " 'orange',\n",
              " 'orange']"
            ]
          },
          "metadata": {},
          "execution_count": 23
        }
      ]
    },
    {
      "cell_type": "code",
      "source": [
        "# prompt: How to insert an element in a list?\n",
        "\n",
        "fruits.insert(3, \"kiwi\")\n",
        "fruits"
      ],
      "metadata": {
        "colab": {
          "base_uri": "https://localhost:8080/"
        },
        "id": "_QDN-vSJjWb_",
        "outputId": "103c1be2-1dd5-454d-f43e-2c1edfe95daa"
      },
      "execution_count": 24,
      "outputs": [
        {
          "output_type": "execute_result",
          "data": {
            "text/plain": [
              "['apple',\n",
              " 'watermelon',\n",
              " 'banana',\n",
              " 'kiwi',\n",
              " 'mango',\n",
              " 'grapes',\n",
              " 'litchi',\n",
              " 'orange',\n",
              " 'orange']"
            ]
          },
          "metadata": {},
          "execution_count": 24
        }
      ]
    },
    {
      "cell_type": "code",
      "source": [
        "fruits.pop()\n",
        "fruits"
      ],
      "metadata": {
        "colab": {
          "base_uri": "https://localhost:8080/"
        },
        "id": "VwXtGCHaj5SH",
        "outputId": "cabc3c7b-9d15-48ec-d450-52ee8d592442"
      },
      "execution_count": 25,
      "outputs": [
        {
          "output_type": "execute_result",
          "data": {
            "text/plain": [
              "['apple',\n",
              " 'watermelon',\n",
              " 'banana',\n",
              " 'kiwi',\n",
              " 'mango',\n",
              " 'grapes',\n",
              " 'litchi',\n",
              " 'orange']"
            ]
          },
          "metadata": {},
          "execution_count": 25
        }
      ]
    },
    {
      "cell_type": "code",
      "source": [
        "fruits.index(\"mango\")"
      ],
      "metadata": {
        "colab": {
          "base_uri": "https://localhost:8080/"
        },
        "id": "mRvl5Sd8kdel",
        "outputId": "f297755b-71ea-48d5-fbb2-6b3da3757585"
      },
      "execution_count": 26,
      "outputs": [
        {
          "output_type": "execute_result",
          "data": {
            "text/plain": [
              "4"
            ]
          },
          "metadata": {},
          "execution_count": 26
        }
      ]
    },
    {
      "cell_type": "code",
      "source": [
        "fruits.append(\"orange\")\n",
        "fruits"
      ],
      "metadata": {
        "colab": {
          "base_uri": "https://localhost:8080/"
        },
        "id": "GOL6ZgtckoD3",
        "outputId": "417e3706-67df-4084-a7f4-9935d287c27c"
      },
      "execution_count": 27,
      "outputs": [
        {
          "output_type": "execute_result",
          "data": {
            "text/plain": [
              "['apple',\n",
              " 'watermelon',\n",
              " 'banana',\n",
              " 'kiwi',\n",
              " 'mango',\n",
              " 'grapes',\n",
              " 'litchi',\n",
              " 'orange',\n",
              " 'orange']"
            ]
          },
          "metadata": {},
          "execution_count": 27
        }
      ]
    },
    {
      "cell_type": "code",
      "source": [
        "fruits.index(\"orange\")"
      ],
      "metadata": {
        "colab": {
          "base_uri": "https://localhost:8080/"
        },
        "id": "4JoAtG2rkzPx",
        "outputId": "8d248e9e-a757-4f1b-9b91-10f679854a94"
      },
      "execution_count": 28,
      "outputs": [
        {
          "output_type": "execute_result",
          "data": {
            "text/plain": [
              "7"
            ]
          },
          "metadata": {},
          "execution_count": 28
        }
      ]
    },
    {
      "cell_type": "code",
      "source": [
        "fruits.count(\"orange\")"
      ],
      "metadata": {
        "colab": {
          "base_uri": "https://localhost:8080/"
        },
        "id": "zOr8IC3-k2NM",
        "outputId": "af50b4d5-a80e-4045-9a89-20c54e5d9b27"
      },
      "execution_count": 29,
      "outputs": [
        {
          "output_type": "execute_result",
          "data": {
            "text/plain": [
              "2"
            ]
          },
          "metadata": {},
          "execution_count": 29
        }
      ]
    },
    {
      "cell_type": "code",
      "source": [
        "# sorting\n",
        "fruits.sort()\n",
        "fruits"
      ],
      "metadata": {
        "colab": {
          "base_uri": "https://localhost:8080/"
        },
        "id": "9UAQQT5FlMm0",
        "outputId": "f15786d3-6a69-4445-b222-6f4bda3f04ac"
      },
      "execution_count": 33,
      "outputs": [
        {
          "output_type": "execute_result",
          "data": {
            "text/plain": [
              "['banana',\n",
              " 'grapes',\n",
              " 'kiwi',\n",
              " 'litchi',\n",
              " 'litchi',\n",
              " 'mango',\n",
              " 'orange',\n",
              " 'orange',\n",
              " 'watermelon']"
            ]
          },
          "metadata": {},
          "execution_count": 33
        }
      ]
    },
    {
      "cell_type": "code",
      "source": [
        "fruits.reverse()\n",
        "fruits"
      ],
      "metadata": {
        "colab": {
          "base_uri": "https://localhost:8080/"
        },
        "id": "ubcNEiudlngs",
        "outputId": "6bbe0988-baf5-4284-af73-f8e3a4076b8e"
      },
      "execution_count": 34,
      "outputs": [
        {
          "output_type": "execute_result",
          "data": {
            "text/plain": [
              "['watermelon',\n",
              " 'orange',\n",
              " 'orange',\n",
              " 'mango',\n",
              " 'litchi',\n",
              " 'litchi',\n",
              " 'kiwi',\n",
              " 'grapes',\n",
              " 'banana']"
            ]
          },
          "metadata": {},
          "execution_count": 34
        }
      ]
    },
    {
      "cell_type": "code",
      "source": [
        "fruits.clear()\n",
        "fruits"
      ],
      "metadata": {
        "colab": {
          "base_uri": "https://localhost:8080/"
        },
        "id": "F3J7adTpmJPa",
        "outputId": "3646f9c4-8e5f-4922-97e4-64a8704c6380"
      },
      "execution_count": 35,
      "outputs": [
        {
          "output_type": "execute_result",
          "data": {
            "text/plain": [
              "[]"
            ]
          },
          "metadata": {},
          "execution_count": 35
        }
      ]
    },
    {
      "cell_type": "code",
      "source": [
        "fruits = [\"apple\",\"guava\",\"banana\",\"cherry\",\"grapes\",\"litchi\"]\n",
        "fruits"
      ],
      "metadata": {
        "colab": {
          "base_uri": "https://localhost:8080/"
        },
        "id": "fgTzj8BGmc_g",
        "outputId": "75bf5d8e-1de0-48c1-b634-99ea9805880a"
      },
      "execution_count": 38,
      "outputs": [
        {
          "output_type": "execute_result",
          "data": {
            "text/plain": [
              "['apple', 'guava', 'banana', 'cherry', 'grapes', 'litchi']"
            ]
          },
          "metadata": {},
          "execution_count": 38
        }
      ]
    },
    {
      "cell_type": "code",
      "source": [
        "fruits.remove(\"banana\")\n",
        "fruits"
      ],
      "metadata": {
        "colab": {
          "base_uri": "https://localhost:8080/"
        },
        "id": "rAnOkQvMm3oa",
        "outputId": "b5d77dfb-1291-4a87-b946-cdfade0fe2ff"
      },
      "execution_count": 39,
      "outputs": [
        {
          "output_type": "execute_result",
          "data": {
            "text/plain": [
              "['apple', 'guava', 'cherry', 'grapes', 'litchi']"
            ]
          },
          "metadata": {},
          "execution_count": 39
        }
      ]
    },
    {
      "cell_type": "code",
      "source": [
        "# more on slicing\n",
        "numbers = [1,2,3,4,5,6,7,8,9,10]\n",
        "numbers"
      ],
      "metadata": {
        "colab": {
          "base_uri": "https://localhost:8080/"
        },
        "id": "GW-EcNgPm7PL",
        "outputId": "311cb5aa-d607-4295-8024-fcfbd8e908d2"
      },
      "execution_count": 43,
      "outputs": [
        {
          "output_type": "execute_result",
          "data": {
            "text/plain": [
              "[1, 2, 3, 4, 5, 6, 7, 8, 9, 10]"
            ]
          },
          "metadata": {},
          "execution_count": 43
        }
      ]
    },
    {
      "cell_type": "code",
      "source": [
        "print(numbers[2:5])"
      ],
      "metadata": {
        "colab": {
          "base_uri": "https://localhost:8080/"
        },
        "id": "yPtX0z4mm_dz",
        "outputId": "d49a02a1-baf4-4438-a8f1-1ac572f87714"
      },
      "execution_count": 44,
      "outputs": [
        {
          "output_type": "stream",
          "name": "stdout",
          "text": [
            "[3, 4, 5]\n"
          ]
        }
      ]
    },
    {
      "cell_type": "code",
      "source": [
        "print(numbers[:5])"
      ],
      "metadata": {
        "colab": {
          "base_uri": "https://localhost:8080/"
        },
        "id": "I4J3ziY1nIL7",
        "outputId": "eb1a728c-1146-44ef-f156-4c92503e0cdb"
      },
      "execution_count": 45,
      "outputs": [
        {
          "output_type": "stream",
          "name": "stdout",
          "text": [
            "[1, 2, 3, 4, 5]\n"
          ]
        }
      ]
    },
    {
      "cell_type": "code",
      "source": [
        "print(numbers[5:])"
      ],
      "metadata": {
        "colab": {
          "base_uri": "https://localhost:8080/"
        },
        "id": "4OQ3gLH4nMa6",
        "outputId": "56a25aa7-adb1-42f1-d1cd-2d489840b06a"
      },
      "execution_count": 46,
      "outputs": [
        {
          "output_type": "stream",
          "name": "stdout",
          "text": [
            "[6, 7, 8, 9, 10]\n"
          ]
        }
      ]
    },
    {
      "cell_type": "code",
      "source": [
        "# start , end+1, step size\n",
        "print(numbers[::2])"
      ],
      "metadata": {
        "colab": {
          "base_uri": "https://localhost:8080/"
        },
        "id": "HoEIUng-nYud",
        "outputId": "cf4326ac-4960-4a87-b91e-7fe8f43dc6e7"
      },
      "execution_count": 47,
      "outputs": [
        {
          "output_type": "stream",
          "name": "stdout",
          "text": [
            "[1, 3, 5, 7, 9]\n"
          ]
        }
      ]
    },
    {
      "cell_type": "code",
      "source": [
        "print(numbers[::-1])"
      ],
      "metadata": {
        "colab": {
          "base_uri": "https://localhost:8080/"
        },
        "id": "9YMMybcHnhg9",
        "outputId": "ed5ab23d-6e3c-4d18-9863-f0ba92a123c5"
      },
      "execution_count": 48,
      "outputs": [
        {
          "output_type": "stream",
          "name": "stdout",
          "text": [
            "[10, 9, 8, 7, 6, 5, 4, 3, 2, 1]\n"
          ]
        }
      ]
    },
    {
      "cell_type": "code",
      "source": [
        "for i in numbers:\n",
        "  print(i)"
      ],
      "metadata": {
        "colab": {
          "base_uri": "https://localhost:8080/"
        },
        "id": "gKRqcOZepmXK",
        "outputId": "79eabdf8-ae7e-43b9-fe11-770d0fe989d4"
      },
      "execution_count": 49,
      "outputs": [
        {
          "output_type": "stream",
          "name": "stdout",
          "text": [
            "1\n",
            "2\n",
            "3\n",
            "4\n",
            "5\n",
            "6\n",
            "7\n",
            "8\n",
            "9\n",
            "10\n"
          ]
        }
      ]
    },
    {
      "cell_type": "code",
      "source": [
        "# enumerate\n",
        "for index, number in enumerate(numbers):\n",
        "  print(index, number)"
      ],
      "metadata": {
        "colab": {
          "base_uri": "https://localhost:8080/"
        },
        "id": "N1WSsZyYpv5w",
        "outputId": "ca0da96f-6d47-4c5f-c41c-1e2db75152ba"
      },
      "execution_count": 50,
      "outputs": [
        {
          "output_type": "stream",
          "name": "stdout",
          "text": [
            "0 1\n",
            "1 2\n",
            "2 3\n",
            "3 4\n",
            "4 5\n",
            "5 6\n",
            "6 7\n",
            "7 8\n",
            "8 9\n",
            "9 10\n"
          ]
        }
      ]
    },
    {
      "cell_type": "code",
      "source": [
        "# print index and number without enumerate\n",
        "for index in range(len(numbers)):\n",
        "  print(index, numbers[index])"
      ],
      "metadata": {
        "colab": {
          "base_uri": "https://localhost:8080/"
        },
        "id": "IYq2KWsXqRG7",
        "outputId": "dbdd2ec1-14ce-412a-8794-43dddb3d1c08"
      },
      "execution_count": 51,
      "outputs": [
        {
          "output_type": "stream",
          "name": "stdout",
          "text": [
            "0 1\n",
            "1 2\n",
            "2 3\n",
            "3 4\n",
            "4 5\n",
            "5 6\n",
            "6 7\n",
            "7 8\n",
            "8 9\n",
            "9 10\n"
          ]
        }
      ]
    },
    {
      "cell_type": "code",
      "source": [
        "# list comprehension\n",
        "lst = []\n",
        "for i in range(10):\n",
        "  print(i**2)"
      ],
      "metadata": {
        "colab": {
          "base_uri": "https://localhost:8080/"
        },
        "id": "UrF_vLpWrM8H",
        "outputId": "6ce8f91c-cfaa-450c-df9c-c74c2add3000"
      },
      "execution_count": 53,
      "outputs": [
        {
          "output_type": "stream",
          "name": "stdout",
          "text": [
            "0\n",
            "1\n",
            "4\n",
            "9\n",
            "16\n",
            "25\n",
            "36\n",
            "49\n",
            "64\n",
            "81\n"
          ]
        }
      ]
    },
    {
      "cell_type": "code",
      "source": [
        "# list comprehension\n",
        "lst = []\n",
        "for i in range(10):\n",
        "  lst.append(i**2)\n",
        "print(lst)"
      ],
      "metadata": {
        "colab": {
          "base_uri": "https://localhost:8080/"
        },
        "id": "13XvP68drpMw",
        "outputId": "751a56b1-c2f4-4019-de2c-80323696ffde"
      },
      "execution_count": 54,
      "outputs": [
        {
          "output_type": "stream",
          "name": "stdout",
          "text": [
            "[0, 1, 4, 9, 16, 25, 36, 49, 64, 81]\n"
          ]
        }
      ]
    },
    {
      "cell_type": "code",
      "source": [
        "[i**2 for i in range(10)]"
      ],
      "metadata": {
        "colab": {
          "base_uri": "https://localhost:8080/"
        },
        "id": "j3_kPAQFrv7N",
        "outputId": "88d4b3d5-9bc1-4ef2-dae1-95bf9b8f1e50"
      },
      "execution_count": 55,
      "outputs": [
        {
          "output_type": "execute_result",
          "data": {
            "text/plain": [
              "[0, 1, 4, 9, 16, 25, 36, 49, 64, 81]"
            ]
          },
          "metadata": {},
          "execution_count": 55
        }
      ]
    },
    {
      "cell_type": "code",
      "source": [
        "even_numbers = [num for num in range(10) if num%2==0]\n"
      ],
      "metadata": {
        "id": "TowhAI57sMzE"
      },
      "execution_count": 56,
      "outputs": []
    },
    {
      "cell_type": "code",
      "source": [
        "even_numbers"
      ],
      "metadata": {
        "colab": {
          "base_uri": "https://localhost:8080/"
        },
        "id": "9gQZ9RSusYMD",
        "outputId": "0ccaeefa-faed-4d4a-f61b-9602b32ca64c"
      },
      "execution_count": 57,
      "outputs": [
        {
          "output_type": "execute_result",
          "data": {
            "text/plain": [
              "[0, 2, 4, 6, 8]"
            ]
          },
          "metadata": {},
          "execution_count": 57
        }
      ]
    },
    {
      "cell_type": "code",
      "source": [
        "lst = []\n",
        "for i in range(10):\n",
        "  if(i%2==0):\n",
        "    lst.append(i)\n",
        "lst"
      ],
      "metadata": {
        "colab": {
          "base_uri": "https://localhost:8080/"
        },
        "id": "kQIY5BfJsbsx",
        "outputId": "26c011f5-76df-4701-b8f7-ae392ca7ef2c"
      },
      "execution_count": 58,
      "outputs": [
        {
          "output_type": "execute_result",
          "data": {
            "text/plain": [
              "[0, 2, 4, 6, 8]"
            ]
          },
          "metadata": {},
          "execution_count": 58
        }
      ]
    },
    {
      "cell_type": "code",
      "metadata": {
        "colab": {
          "base_uri": "https://localhost:8080/"
        },
        "id": "7b2d0b61",
        "outputId": "50e989a8-aadd-4255-cf05-f5bc5555d729"
      },
      "source": [
        "lst1 = [1,2,3,4]\n",
        "lst2 = ['a','b','c','d']\n",
        "nested_list = [lst1, lst2]\n",
        "# The rest of your code to print the nested list elements\n",
        "for inner_list in nested_list:\n",
        "  for item in inner_list:\n",
        "    print(item)"
      ],
      "execution_count": 62,
      "outputs": [
        {
          "output_type": "stream",
          "name": "stdout",
          "text": [
            "1\n",
            "2\n",
            "3\n",
            "4\n",
            "a\n",
            "b\n",
            "c\n",
            "d\n"
          ]
        }
      ]
    },
    {
      "cell_type": "code",
      "source": [
        "# create a list to calculate and store the average marks of students\n",
        "marks = [85,67,83,94,90]\n",
        "# sum, avg, maximum, minimum"
      ],
      "metadata": {
        "id": "MczKmepPvMx0"
      },
      "execution_count": null,
      "outputs": []
    },
    {
      "cell_type": "code",
      "metadata": {
        "colab": {
          "base_uri": "https://localhost:8080/"
        },
        "id": "f2c108d6",
        "outputId": "5375f75e-e9ca-4ccb-d217-9f74de3d8ae9"
      },
      "source": [
        "# create a list to calculate and store the average marks of students\n",
        "marks = [85,67,83,94,90]\n",
        "\n",
        "# Calculate the sum of the marks\n",
        "total_marks = sum(marks)\n",
        "print(f\"The sum of the marks is: {total_marks}\")\n",
        "\n",
        "# Calculate the number of students\n",
        "num_students = len(marks)\n",
        "print(f\"The number of students is: {num_students}\")\n",
        "\n",
        "# Calculate the average mark\n",
        "average_mark = total_marks / num_students\n",
        "print(f\"The average mark is: {average_mark}\")\n",
        "\n",
        "# Find the maximum mark\n",
        "maximum_mark = max(marks)\n",
        "print(f\"The maximum mark is: {maximum_mark}\")\n",
        "\n",
        "# Find the minimum mark\n",
        "minimum_mark = min(marks)\n",
        "print(f\"The minimum mark is: {minimum_mark}\")"
      ],
      "execution_count": 64,
      "outputs": [
        {
          "output_type": "stream",
          "name": "stdout",
          "text": [
            "The sum of the marks is: 419\n",
            "The number of students is: 5\n",
            "The average mark is: 83.8\n",
            "The maximum mark is: 94\n",
            "The minimum mark is: 67\n"
          ]
        }
      ]
    },
    {
      "cell_type": "code",
      "metadata": {
        "colab": {
          "base_uri": "https://localhost:8080/"
        },
        "id": "477bb9e6",
        "outputId": "058f7577-0717-4252-fb51-87cd8be1d7db"
      },
      "source": [
        "# Remove duplicates from the list using a set\n",
        "lst = [1,2,4,4,5,6,5,4,8,7,9,3]\n",
        "lst2 = []\n",
        "for i in lst:\n",
        "  if i not in lst2:\n",
        "    lst2.append(i)\n",
        "lst2"
      ],
      "execution_count": 68,
      "outputs": [
        {
          "output_type": "execute_result",
          "data": {
            "text/plain": [
              "[1, 2, 4, 5, 6, 8, 7, 9, 3]"
            ]
          },
          "metadata": {},
          "execution_count": 68
        }
      ]
    },
    {
      "cell_type": "code",
      "source": [
        "# find sum of even numbers in a list\n",
        "lst = [1,2,4,4,5,6,5,4,8,7,9,3]\n",
        "even_sum = 0\n",
        "for i in lst:\n",
        "  if i%2==0:\n",
        "    even_sum+=i\n",
        "print(even_sum)"
      ],
      "metadata": {
        "colab": {
          "base_uri": "https://localhost:8080/"
        },
        "id": "yfwQ5IsPyN3r",
        "outputId": "af7e5a60-ea9c-4b6e-9f8f-aadf3d3c9a4c"
      },
      "execution_count": 70,
      "outputs": [
        {
          "output_type": "stream",
          "name": "stdout",
          "text": [
            "28\n"
          ]
        }
      ]
    }
  ]
}