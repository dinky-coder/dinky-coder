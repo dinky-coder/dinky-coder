{
  "nbformat": 4,
  "nbformat_minor": 0,
  "metadata": {
    "colab": {
      "provenance": [],
      "authorship_tag": "ABX9TyNaVpINr2rBF8lxdjvCd6Dw",
      "include_colab_link": true
    },
    "kernelspec": {
      "name": "python3",
      "display_name": "Python 3"
    },
    "language_info": {
      "name": "python"
    }
  },
  "cells": [
    {
      "cell_type": "markdown",
      "metadata": {
        "id": "view-in-github",
        "colab_type": "text"
      },
      "source": [
        "<a href=\"https://colab.research.google.com/github/dinky-coder/dinky-coder/blob/main/BaseExpertConsultationTool.ipynb\" target=\"_parent\"><img src=\"https://colab.research.google.com/assets/colab-badge.svg\" alt=\"Open In Colab\"/></a>"
      ]
    },
    {
      "cell_type": "code",
      "execution_count": 1,
      "metadata": {
        "id": "_wCVymD_qIfG"
      },
      "outputs": [],
      "source": [
        "# Placeholder definition for register_tool decorator\n",
        "def register_tool():\n",
        "    def decorator(func):\n",
        "        return func\n",
        "    return decorator\n",
        "\n",
        "# Placeholder definition for ActionContext\n",
        "class ActionContext:\n",
        "    def get(self, key):\n",
        "        # Placeholder implementation for get method\n",
        "        if key == \"llm\":\n",
        "            # Return a dummy function that simulates an LLM response\n",
        "            return lambda prompt: \"This is a dummy response from the LLM.\"\n",
        "        return None\n",
        "\n",
        "# Placeholder definition for Prompt\n",
        "class Prompt:\n",
        "    def __init__(self, messages):\n",
        "        self.messages = messages\n",
        "\n",
        "@register_tool()\n",
        "def prompt_expert(action_context: ActionContext, description_of_expert: str, prompt: str) -> str:\n",
        "    \"\"\"\n",
        "    Generate a response from an expert persona.\n",
        "\n",
        "    The expert's background and specialization should be thoroughly described to ensure\n",
        "    responses align with their expertise. The prompt should be focused on topics within\n",
        "    their domain of knowledge.\n",
        "\n",
        "    Args:\n",
        "        description_of_expert: Detailed description of the expert's background and expertise\n",
        "        prompt: The specific question or task for the expert\n",
        "\n",
        "    Returns:\n",
        "        The expert's response\n",
        "    \"\"\"\n",
        "    generate_response = action_context.get(\"llm\")\n",
        "    response = generate_response(Prompt(messages=[\n",
        "        {\"role\": \"system\",\n",
        "         \"content\": f\"Act as the following expert and respond accordingly: {description_of_expert}\"},\n",
        "        {\"role\": \"user\", \"content\": prompt}\n",
        "    ]))\n",
        "    return response"
      ]
    }
  ]
}