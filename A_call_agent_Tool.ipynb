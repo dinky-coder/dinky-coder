{
  "nbformat": 4,
  "nbformat_minor": 0,
  "metadata": {
    "colab": {
      "provenance": [],
      "authorship_tag": "ABX9TyOksCMLNMKeWvLYxrmICzPz",
      "include_colab_link": true
    },
    "kernelspec": {
      "name": "python3",
      "display_name": "Python 3"
    },
    "language_info": {
      "name": "python"
    }
  },
  "cells": [
    {
      "cell_type": "markdown",
      "metadata": {
        "id": "view-in-github",
        "colab_type": "text"
      },
      "source": [
        "<a href=\"https://colab.research.google.com/github/dinky-coder/dinky-coder/blob/main/A_call_agent_Tool.ipynb\" target=\"_parent\"><img src=\"https://colab.research.google.com/assets/colab-badge.svg\" alt=\"Open In Colab\"/></a>"
      ]
    },
    {
      "cell_type": "markdown",
      "source": [
        "# Building Multi-Agent Systems: Agent-to-Agent Communication\n",
        "A call_agent Tool"
      ],
      "metadata": {
        "id": "lITCz6fQ6AVA"
      }
    },
    {
      "cell_type": "code",
      "metadata": {
        "id": "6805cb5a"
      },
      "source": [
        "# Define a mock register_tool decorator to resolve the NameError.\n",
        "# In a real scenario, this decorator would be provided by the agent framework\n",
        "# being used to register the function as a tool.\n",
        "def register_tool():\n",
        "  def decorator(func):\n",
        "    return func\n",
        "  return decorator\n",
        "\n",
        "# Define a mock ActionContext and Memory class to allow the code to run.\n",
        "# In a real scenario, these classes would be provided by the agent framework.\n",
        "class ActionContext:\n",
        "  def __init__(self, props=None):\n",
        "      self._props = props if props is not None else {}\n",
        "\n",
        "  def get_agent_registry(self):\n",
        "    # Return a mock agent registry for testing purposes\n",
        "    return self.get('agent_registry')\n",
        "\n",
        "  def get(self, key, default=None):\n",
        "    # Return mock values for context properties\n",
        "    return self._props.get(key, default)\n",
        "\n",
        "\n",
        "class Memory:\n",
        "  def __init__(self):\n",
        "    self.items = []\n",
        "\n",
        "  def add(self, item):\n",
        "    self.items.append(item)\n",
        "\n",
        "  def get(self, key, default=None):\n",
        "    # For simplicity, this mock get method assumes key is an index or directly\n",
        "    # returns the last item's content\n",
        "    if self.items:\n",
        "      return self.items[-1].get(key, default)\n",
        "    return default\n",
        "\n",
        "class MockAgentRegistry:\n",
        "  def get_agent(self, agent_name):\n",
        "    # Return a mock agent run function for testing purposes\n",
        "    if agent_name == \"mock_agent\":\n",
        "      def mock_run(user_input, memory, action_context_props):\n",
        "        memory.add({\"content\": f\"Mock agent received task: {user_input}\"})\n",
        "        return memory\n",
        "      return mock_run\n",
        "    return None"
      ],
      "execution_count": 36,
      "outputs": []
    },
    {
      "cell_type": "code",
      "metadata": {
        "id": "06fd0ab3"
      },
      "source": [
        "@register_tool()\n",
        "def call_agent(action_context: ActionContext,\n",
        "               agent_name: str,\n",
        "               task: str) -> dict:\n",
        "    \"\"\"\n",
        "    Invoke another agent to perform a specific task.\n",
        "\n",
        "    Args:\n",
        "        action_context: Contains registry of available agents\n",
        "        agent_name: Name of the agent to call\n",
        "        task: The task to ask the agent to perform\n",
        "\n",
        "    Returns:\n",
        "        The result from the invoked agent's final memory\n",
        "    \"\"\"\n",
        "    # Get the agent registry from our context\n",
        "    agent_registry = action_context.get_agent_registry()\n",
        "    if not agent_registry:\n",
        "        raise ValueError(\"No agent registry found in context\")\n",
        "\n",
        "    # Get the agent's run function from the registry\n",
        "    agent_run = agent_registry.get_agent(agent_name)\n",
        "    if not agent_run:\n",
        "        raise ValueError(f\"Agent '{agent_name}' not found in registry\")\n",
        "\n",
        "    # Create a new memory instance for the invoked agent\n",
        "    invoked_memory = Memory()\n",
        "\n",
        "    try:\n",
        "        # Run the agent with the provided task\n",
        "        result_memory = agent_run(\n",
        "            user_input=task,\n",
        "            memory=invoked_memory,\n",
        "            # Pass through any needed context properties\n",
        "            action_context_props={\n",
        "                'auth_token': action_context.get('auth_token'),\n",
        "                'user_config': action_context.get('user_config'),\n",
        "                # Don't pass agent_registry to prevent infinite recursion\n",
        "            }\n",
        "        )\n",
        "\n",
        "        # Get the last memory item as the result\n",
        "        if result_memory.items:\n",
        "            last_memory = result_memory.items[-1]\n",
        "            return {\n",
        "                \"success\": True,\n",
        "                \"agent\": agent_name,\n",
        "                \"result\": last_memory.get(\"content\", \"No result content\")\n",
        "            }\n",
        "        else:\n",
        "            return {\n",
        "                \"success\": False,\n",
        "                \"error\": \"Agent failed to run.\"\n",
        "            }\n",
        "\n",
        "    except Exception as e:\n",
        "        return {\n",
        "            \"success\": False,\n",
        "            \"error\": str(e)\n",
        "        }"
      ],
      "execution_count": 37,
      "outputs": []
    },
    {
      "cell_type": "code",
      "source": [
        "from typing import List, Dict\n",
        "\n",
        "@register_tool()\n",
        "def check_availability(\n",
        "    action_context: ActionContext,\n",
        "    attendees: List[str],\n",
        "    start_date: str,\n",
        "    end_date: str,\n",
        "    duration_minutes: int,\n",
        "    _calendar_api_key: str\n",
        ") -> List[Dict]:\n",
        "    \"\"\"Find available time slots for all attendees.\"\"\"\n",
        "    return calendar_service.find_available_slots(...)\n",
        "\n",
        "@register_tool()\n",
        "def create_calendar_invite(\n",
        "    action_context: ActionContext,\n",
        "    title: str,\n",
        "    description: str,\n",
        "    start_time: str,\n",
        "    duration_minutes: int,\n",
        "    attendees: List[str],\n",
        "    _calendar_api_key: str\n",
        ") -> Dict:\n",
        "    \"\"\"Create and send a calendar invitation.\"\"\"\n",
        "    return calendar_service.create_event(...)"
      ],
      "metadata": {
        "id": "l9PD1i9H8oEk"
      },
      "execution_count": 38,
      "outputs": []
    },
    {
      "cell_type": "code",
      "source": [
        "scheduler_agent = Agent(\n",
        "    goals=[\n",
        "        Goal(\n",
        "            name=\"schedule_meetings\",\n",
        "            description=\"\"\"Schedule meetings efficiently by:\n",
        "            1. Finding times that work for all attendees\n",
        "            2. Creating and sending calendar invites\n",
        "            3. Handling any scheduling conflicts\"\"\"\n",
        "        )\n",
        "    ],\n",
        ")"
      ],
      "metadata": {
        "colab": {
          "base_uri": "https://localhost:8080/"
        },
        "id": "HnH03ikw9LPh",
        "outputId": "7d5d6300-c657-4b7d-a4de-e2c455d969e4"
      },
      "execution_count": 39,
      "outputs": [
        {
          "output_type": "stream",
          "name": "stdout",
          "text": [
            "Mock Agent initialized with goals:\n",
            "- schedule_meetings: Schedule meetings efficiently by:\n",
            "            1. Finding times that work for all attendees\n",
            "            2. Creating and sending calendar invites\n",
            "            3. Handling any scheduling conflicts\n"
          ]
        }
      ]
    },
    {
      "cell_type": "code",
      "source": [
        "@register_tool()\n",
        "def get_project_status(\n",
        "    action_context: ActionContext,\n",
        "    project_id: str,\n",
        "    _project_api_token: str\n",
        ") -> Dict:\n",
        "    \"\"\"Retrieve current project status information.\"\"\"\n",
        "    return project_service.get_status(...)\n",
        "\n",
        "@register_tool()\n",
        "def update_project_log(\n",
        "    action_context: ActionContext,\n",
        "    entry_type: str,\n",
        "    description: str,\n",
        "    _project_api_token: str\n",
        ") -> Dict:\n",
        "    \"\"\"Record an update in the project log.\"\"\"\n",
        "    return project_service.log_update(...)\n",
        "\n",
        "@register_tool()\n",
        "def call_agent(\n",
        "    action_context: ActionContext,\n",
        "    agent_name: str,\n",
        "    task: str\n",
        ") -> Dict:\n",
        "    \"\"\"Delegate to a specialist agent.\"\"\"\n",
        "    # Implementation as shown in previous tutorial"
      ],
      "metadata": {
        "id": "9O2Jx1-t9fK0"
      },
      "execution_count": 40,
      "outputs": []
    },
    {
      "cell_type": "code",
      "metadata": {
        "id": "df0c64ed"
      },
      "source": [
        "# Define mock Agent and Goal classes to resolve the NameError.\n",
        "# In a real scenario, these classes would be provided by the agent framework.\n",
        "class Goal:\n",
        "    def __init__(self, name: str, description: str):\n",
        "        self.name = name\n",
        "        self.description = description\n",
        "\n",
        "class Agent:\n",
        "    def __init__(self, goals: list):\n",
        "        self.goals = goals\n",
        "        print(\"Mock Agent initialized with goals:\")\n",
        "        for goal in self.goals:\n",
        "            print(f\"- {goal.name}: {goal.description}\")\n",
        "\n",
        "    def run(self, user_input, memory, action_context_props):\n",
        "        \"\"\"Mock run method for the agent.\"\"\"\n",
        "        print(f\"Mock Agent running with input: {user_input}\")\n",
        "        # In a real scenario, this method would process the input and update memory\n",
        "        return memory"
      ],
      "execution_count": 41,
      "outputs": []
    },
    {
      "cell_type": "code",
      "metadata": {
        "colab": {
          "base_uri": "https://localhost:8080/"
        },
        "id": "fe4d9ba5",
        "outputId": "97de7fd3-654a-4ed8-8c71-9f2af4553d6e"
      },
      "source": [
        "scheduler_agent = Agent(\n",
        "    goals=[\n",
        "        Goal(\n",
        "            name=\"schedule_meetings\",\n",
        "            description=\"\"\"Schedule meetings efficiently by:\n",
        "            1. Finding times that work for all attendees\n",
        "            2. Creating and sending calendar invites\n",
        "            3. Handling any scheduling conflicts\"\"\"\n",
        "        )\n",
        "    ],\n",
        ")"
      ],
      "execution_count": 42,
      "outputs": [
        {
          "output_type": "stream",
          "name": "stdout",
          "text": [
            "Mock Agent initialized with goals:\n",
            "- schedule_meetings: Schedule meetings efficiently by:\n",
            "            1. Finding times that work for all attendees\n",
            "            2. Creating and sending calendar invites\n",
            "            3. Handling any scheduling conflicts\n"
          ]
        }
      ]
    },
    {
      "cell_type": "code",
      "source": [
        "project_manager = Agent(\n",
        "    goals=[\n",
        "        Goal(\n",
        "            name=\"project_oversight\",\n",
        "            description=\"\"\"Manage project progress by:\n",
        "            1. Getting the current project status\n",
        "            2. Identifying when meetings are needed if there are issues in the project status log\n",
        "            3. Delegating meeting scheduling to the \"scheduler_agent\" to arrange the meeting\n",
        "            4. Recording project updates and decisions\"\"\"\n",
        "        )\n",
        "    ],\n",
        ")"
      ],
      "metadata": {
        "colab": {
          "base_uri": "https://localhost:8080/"
        },
        "id": "KqEdVKfn-Pef",
        "outputId": "bf4cadbe-096f-46ca-ef3d-a93a4ef08408"
      },
      "execution_count": 43,
      "outputs": [
        {
          "output_type": "stream",
          "name": "stdout",
          "text": [
            "Mock Agent initialized with goals:\n",
            "- project_oversight: Manage project progress by:\n",
            "            1. Getting the current project status\n",
            "            2. Identifying when meetings are needed if there are issues in the project status log\n",
            "            3. Delegating meeting scheduling to the \"scheduler_agent\" to arrange the meeting\n",
            "            4. Recording project updates and decisions\n"
          ]
        }
      ]
    },
    {
      "cell_type": "markdown",
      "source": [
        "Registering Agents"
      ],
      "metadata": {
        "id": "V7HdI7Yt-hkp"
      }
    },
    {
      "cell_type": "code",
      "source": [
        "class AgentRegistry:\n",
        "    def __init__(self):\n",
        "        self.agents = {}\n",
        "\n",
        "    def register_agent(self, name: str, run_function: callable):\n",
        "        \"\"\"Register an agent's run function.\"\"\"\n",
        "        self.agents[name] = run_function\n",
        "\n",
        "    def get_agent(self, name: str) -> callable:\n",
        "        \"\"\"Get an agent's run function by name.\"\"\"\n",
        "        return self.agents.get(name)\n",
        "\n",
        "# When setting up the system\n",
        "registry = AgentRegistry()\n",
        "registry.register_agent(\"scheduler_agent\", scheduler_agent.run)\n",
        "\n",
        "# Include registry in action context\n",
        "action_context = ActionContext({\n",
        "    'agent_registry': registry,\n",
        "    # Other shared resources...\n",
        "})"
      ],
      "metadata": {
        "id": "g9aORZ9m-lPL"
      },
      "execution_count": 44,
      "outputs": []
    }
  ]
}