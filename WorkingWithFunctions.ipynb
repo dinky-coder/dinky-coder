{
  "nbformat": 4,
  "nbformat_minor": 0,
  "metadata": {
    "colab": {
      "provenance": [],
      "authorship_tag": "ABX9TyNnJPznkAjzBeW/8r5Ohvfl",
      "include_colab_link": true
    },
    "kernelspec": {
      "name": "python3",
      "display_name": "Python 3"
    },
    "language_info": {
      "name": "python"
    }
  },
  "cells": [
    {
      "cell_type": "markdown",
      "metadata": {
        "id": "view-in-github",
        "colab_type": "text"
      },
      "source": [
        "<a href=\"https://colab.research.google.com/github/dinky-coder/dinky-coder/blob/main/WorkingWithFunctions.ipynb\" target=\"_parent\"><img src=\"https://colab.research.google.com/assets/colab-badge.svg\" alt=\"Open In Colab\"/></a>"
      ]
    },
    {
      "cell_type": "markdown",
      "source": [],
      "metadata": {
        "id": "-_e8RMrgRcl1"
      }
    },
    {
      "cell_type": "code",
      "execution_count": 1,
      "metadata": {
        "colab": {
          "base_uri": "https://localhost:8080/"
        },
        "id": "lU_NkUC_QIkw",
        "outputId": "6905f270-851a-4c3e-a596-79db2ba7cf6c"
      },
      "outputs": [
        {
          "output_type": "stream",
          "name": "stdout",
          "text": [
            "hello\n"
          ]
        }
      ],
      "source": [
        "print(\"hello\") # task 1"
      ]
    },
    {
      "cell_type": "code",
      "source": [
        "for i in range(5): # task 2\n",
        "  print(\"hello\")"
      ],
      "metadata": {
        "colab": {
          "base_uri": "https://localhost:8080/"
        },
        "id": "7TVWvyoTUtkc",
        "outputId": "47463c90-5c06-4f68-ca23-65eccd9ea3eb"
      },
      "execution_count": 4,
      "outputs": [
        {
          "output_type": "stream",
          "name": "stdout",
          "text": [
            "hello\n",
            "hello\n",
            "hello\n",
            "hello\n",
            "hello\n"
          ]
        }
      ]
    },
    {
      "cell_type": "code",
      "source": [
        "# function definition\n",
        "def fun():\n",
        "  print(\"hello\")"
      ],
      "metadata": {
        "id": "X_07XD7RUtZb"
      },
      "execution_count": 5,
      "outputs": []
    },
    {
      "cell_type": "code",
      "source": [
        "fun() # function call"
      ],
      "metadata": {
        "colab": {
          "base_uri": "https://localhost:8080/"
        },
        "id": "t7wCMsY8UtOC",
        "outputId": "43700d39-ac58-4718-d51e-cff712114a63"
      },
      "execution_count": 6,
      "outputs": [
        {
          "output_type": "stream",
          "name": "stdout",
          "text": [
            "hello\n"
          ]
        }
      ]
    },
    {
      "cell_type": "code",
      "source": [
        "fun()\n",
        "fun()\n",
        "fun()"
      ],
      "metadata": {
        "colab": {
          "base_uri": "https://localhost:8080/"
        },
        "id": "UtmlQEFBVPIZ",
        "outputId": "f74be0dc-5c84-46bf-b71f-8b01e5caada3"
      },
      "execution_count": 7,
      "outputs": [
        {
          "output_type": "stream",
          "name": "stdout",
          "text": [
            "hello\n",
            "hello\n",
            "hello\n"
          ]
        }
      ]
    },
    {
      "cell_type": "code",
      "source": [
        "for i in range(5):\n",
        "  fun()"
      ],
      "metadata": {
        "colab": {
          "base_uri": "https://localhost:8080/"
        },
        "id": "1rvgQT26VPBY",
        "outputId": "90f8e200-6ebe-43db-dddb-156a6ecee854"
      },
      "execution_count": 8,
      "outputs": [
        {
          "output_type": "stream",
          "name": "stdout",
          "text": [
            "hello\n",
            "hello\n",
            "hello\n",
            "hello\n",
            "hello\n"
          ]
        }
      ]
    },
    {
      "cell_type": "code",
      "source": [
        "def fun1():\n",
        "  for i in range(1,10):\n",
        "    print(\"hello\")"
      ],
      "metadata": {
        "id": "qTXTcX2YVO7l"
      },
      "execution_count": 9,
      "outputs": []
    },
    {
      "cell_type": "code",
      "source": [
        "fun1()"
      ],
      "metadata": {
        "colab": {
          "base_uri": "https://localhost:8080/"
        },
        "id": "uCipDzwTWRkF",
        "outputId": "e06196a1-b6ba-4c0d-fdf0-f90130ab3089"
      },
      "execution_count": 10,
      "outputs": [
        {
          "output_type": "stream",
          "name": "stdout",
          "text": [
            "hello\n",
            "hello\n",
            "hello\n",
            "hello\n",
            "hello\n",
            "hello\n",
            "hello\n",
            "hello\n",
            "hello\n"
          ]
        }
      ]
    },
    {
      "cell_type": "code",
      "source": [
        "# types of function - default functions print(), input(), len()\n",
        "# user defined functions"
      ],
      "metadata": {
        "id": "ZFQVa04DWRaQ"
      },
      "execution_count": null,
      "outputs": []
    },
    {
      "cell_type": "code",
      "source": [
        "# local and global value\n",
        "b = 4\n",
        "def func():\n",
        "  a=2     # local value\n",
        "  print(a)\n",
        "\n"
      ],
      "metadata": {
        "id": "lvlLBCw0WRVS"
      },
      "execution_count": 15,
      "outputs": []
    },
    {
      "cell_type": "code",
      "source": [
        "func()"
      ],
      "metadata": {
        "colab": {
          "base_uri": "https://localhost:8080/"
        },
        "id": "wmxZk5XDWWdP",
        "outputId": "153e0811-cf23-4dae-84f4-76214cb813ac"
      },
      "execution_count": 16,
      "outputs": [
        {
          "output_type": "stream",
          "name": "stdout",
          "text": [
            "2\n"
          ]
        }
      ]
    },
    {
      "cell_type": "code",
      "source": [
        "def func():\n",
        "  print(\"hello\")\n",
        "\n",
        "fun() #hello\n",
        "\n",
        "def fun():\n",
        "  print(\"hey\")\n",
        "\n",
        "fun() #hey"
      ],
      "metadata": {
        "colab": {
          "base_uri": "https://localhost:8080/"
        },
        "id": "4bDjjXKuWWVe",
        "outputId": "25f22c43-d17c-4a54-ff89-39ab504388b4"
      },
      "execution_count": 17,
      "outputs": [
        {
          "output_type": "stream",
          "name": "stdout",
          "text": [
            "hello\n",
            "hey\n"
          ]
        }
      ]
    },
    {
      "cell_type": "code",
      "source": [
        "fun()"
      ],
      "metadata": {
        "colab": {
          "base_uri": "https://localhost:8080/"
        },
        "id": "_HVPoHpxWWOE",
        "outputId": "7a28bd70-9834-4ac2-a8ba-36db40df36c7"
      },
      "execution_count": 18,
      "outputs": [
        {
          "output_type": "stream",
          "name": "stdout",
          "text": [
            "hey\n"
          ]
        }
      ]
    },
    {
      "cell_type": "code",
      "source": [
        "# parameters in a function\n",
        "def fun(name, age):\n",
        "  print(f\"Hello {name} your age is: {age}\")\n"
      ],
      "metadata": {
        "id": "tWxSGIeOWWGo"
      },
      "execution_count": 26,
      "outputs": []
    },
    {
      "cell_type": "code",
      "source": [
        "fun(\"Dhawal\",25)"
      ],
      "metadata": {
        "colab": {
          "base_uri": "https://localhost:8080/"
        },
        "id": "xXaz2KBMWV-7",
        "outputId": "c25fe81e-fb8d-4f5e-c1a8-bdb56310ba76"
      },
      "execution_count": 27,
      "outputs": [
        {
          "output_type": "stream",
          "name": "stdout",
          "text": [
            "Hello Dhawal your age is: 25\n"
          ]
        }
      ]
    },
    {
      "cell_type": "code",
      "source": [
        "# return statement\n",
        "def add(a,b):\n",
        "  return a+b\n",
        ""
      ],
      "metadata": {
        "id": "iYvq_xeNZ_Y7"
      },
      "execution_count": 28,
      "outputs": []
    },
    {
      "cell_type": "code",
      "source": [
        "add(34,5)"
      ],
      "metadata": {
        "colab": {
          "base_uri": "https://localhost:8080/"
        },
        "id": "PRuiA88zZ_RC",
        "outputId": "c7d65568-6e36-4044-b8da-c3b22aa83ab5"
      },
      "execution_count": 29,
      "outputs": [
        {
          "output_type": "execute_result",
          "data": {
            "text/plain": [
              "39"
            ]
          },
          "metadata": {},
          "execution_count": 29
        }
      ]
    },
    {
      "cell_type": "code",
      "source": [
        "def opr(x,y):\n",
        "  return x+y, x-y, x*y, x/y, x%y\n"
      ],
      "metadata": {
        "id": "6fk_9MevbKQz"
      },
      "execution_count": 33,
      "outputs": []
    },
    {
      "cell_type": "code",
      "source": [
        "opr(30,6)"
      ],
      "metadata": {
        "colab": {
          "base_uri": "https://localhost:8080/"
        },
        "id": "PpUvkLVNbKCn",
        "outputId": "de5dd792-22b8-4971-aca9-d2f850f0ab0f"
      },
      "execution_count": 34,
      "outputs": [
        {
          "output_type": "execute_result",
          "data": {
            "text/plain": [
              "(36, 24, 180, 5.0, 0)"
            ]
          },
          "metadata": {},
          "execution_count": 34
        }
      ]
    },
    {
      "cell_type": "code",
      "source": [
        "# default value\n",
        "def fun(name=\"Dhawal\"):\n",
        "  print(name)"
      ],
      "metadata": {
        "id": "Rmkkpy34ch2j"
      },
      "execution_count": 38,
      "outputs": []
    },
    {
      "cell_type": "code",
      "source": [
        "fun()"
      ],
      "metadata": {
        "colab": {
          "base_uri": "https://localhost:8080/"
        },
        "id": "G-KIxR9vcsDi",
        "outputId": "31fffd43-eefc-4873-e3e0-8b81ca9059dc"
      },
      "execution_count": 39,
      "outputs": [
        {
          "output_type": "stream",
          "name": "stdout",
          "text": [
            "Dhawal\n"
          ]
        }
      ]
    },
    {
      "cell_type": "code",
      "source": [
        "# positional arguments\n",
        "def student(name,age):\n",
        "  print(f\"{name} is {age} years old\")"
      ],
      "metadata": {
        "id": "KmW9zbJZb82I"
      },
      "execution_count": 40,
      "outputs": []
    },
    {
      "cell_type": "code",
      "source": [
        "student(\"gfg\",30)"
      ],
      "metadata": {
        "colab": {
          "base_uri": "https://localhost:8080/"
        },
        "id": "KwFtJ5Brb8s7",
        "outputId": "0b4f87e0-a3a5-4a9b-e424-834c02e6543c"
      },
      "execution_count": 41,
      "outputs": [
        {
          "output_type": "stream",
          "name": "stdout",
          "text": [
            "gfg is 30 years old\n"
          ]
        }
      ]
    },
    {
      "cell_type": "code",
      "source": [
        "student(30,\"gfg\")"
      ],
      "metadata": {
        "colab": {
          "base_uri": "https://localhost:8080/"
        },
        "id": "BKxmvGEjb8kX",
        "outputId": "4df396c7-2421-408c-ff41-b6102904e028"
      },
      "execution_count": 42,
      "outputs": [
        {
          "output_type": "stream",
          "name": "stdout",
          "text": [
            "30 is gfg years old\n"
          ]
        }
      ]
    },
    {
      "cell_type": "code",
      "source": [
        "student(age=30,name=\"gfg\")   # key word argument"
      ],
      "metadata": {
        "colab": {
          "base_uri": "https://localhost:8080/"
        },
        "id": "7s6VV81JdjJJ",
        "outputId": "bac06ccd-2930-4d6a-dca1-b36b97996e33"
      },
      "execution_count": 43,
      "outputs": [
        {
          "output_type": "stream",
          "name": "stdout",
          "text": [
            "gfg is 30 years old\n"
          ]
        }
      ]
    },
    {
      "cell_type": "code",
      "source": [
        "# write a function to print the maximum of the 3 numbers taken from users\n",
        "# a = int(input(\"enter first number: \"))\n",
        "# b = int(input(\"enter second number: \"))\n",
        "# c = int(input(\"enter third number: \"))\n",
        "def max_num(a,b,c):\n",
        "  if a>=b and a>=c:\n",
        "    print(a)\n",
        "  elif b>=a and b>=c:\n",
        "    print(b)\n",
        "  else:\n",
        "    print(c)\n",
        "\n",
        "max_num(10,2,32)"
      ],
      "metadata": {
        "colab": {
          "base_uri": "https://localhost:8080/"
        },
        "outputId": "97de7a9b-fdc7-4792-a0b7-f6e5961915e8",
        "id": "BHdYgQMqgWav"
      },
      "execution_count": 11,
      "outputs": [
        {
          "output_type": "stream",
          "name": "stdout",
          "text": [
            "32\n"
          ]
        }
      ]
    },
    {
      "cell_type": "code",
      "source": [
        "def max_num():\n",
        "  a = int(input(\"enter first number: \"))\n",
        "  b = int(input(\"enter second number: \"))\n",
        "  c = int(input(\"enter third number: \"))\n",
        "  return max(a,b,c)"
      ],
      "metadata": {
        "id": "z8C22qJpdinu"
      },
      "execution_count": 12,
      "outputs": []
    },
    {
      "cell_type": "code",
      "source": [
        "max_num()"
      ],
      "metadata": {
        "colab": {
          "base_uri": "https://localhost:8080/"
        },
        "id": "UfkKl7q-hV6e",
        "outputId": "0f558e80-8506-4ec1-adfb-7308b86a8b84"
      },
      "execution_count": 13,
      "outputs": [
        {
          "name": "stdout",
          "output_type": "stream",
          "text": [
            "enter first number: 10\n",
            "enter second number: 23\n",
            "enter third number: 2\n"
          ]
        },
        {
          "output_type": "execute_result",
          "data": {
            "text/plain": [
              "23"
            ]
          },
          "metadata": {},
          "execution_count": 13
        }
      ]
    },
    {
      "cell_type": "code",
      "source": [
        "# write a function to check if a number is even or odd\n",
        "def even_odd():\n",
        "  num = int(input(\"enter a number: \"))\n",
        "  if num%2==0:\n",
        "    print(\"even\")\n",
        "  else:\n",
        "    print(\"odd\")\n",
        "\n",
        "even_odd()"
      ],
      "metadata": {
        "colab": {
          "base_uri": "https://localhost:8080/"
        },
        "id": "reDcjoC6hVyK",
        "outputId": "fd612975-528a-490d-ca64-aa2043bfe018"
      },
      "execution_count": 19,
      "outputs": [
        {
          "output_type": "stream",
          "name": "stdout",
          "text": [
            "enter a number: 11\n",
            "odd\n"
          ]
        }
      ]
    },
    {
      "cell_type": "code",
      "source": [
        "# print a multiplication table of a number\n",
        "def mul_table():\n",
        "  num = int(input(\"enter a number: \"))\n",
        "  for i in range (1,11):\n",
        "    print(f\"{num} * {i} = {num * i}\")\n",
        "\n",
        "mul_table()"
      ],
      "metadata": {
        "colab": {
          "base_uri": "https://localhost:8080/"
        },
        "id": "yyxEWrDbhVpM",
        "outputId": "6599eb22-2d46-4650-dbe0-da93f76d39d6"
      },
      "execution_count": 23,
      "outputs": [
        {
          "output_type": "stream",
          "name": "stdout",
          "text": [
            "enter a number: 5\n",
            "5 * 1 = 5\n",
            "5 * 2 = 10\n",
            "5 * 3 = 15\n",
            "5 * 4 = 20\n",
            "5 * 5 = 25\n",
            "5 * 6 = 30\n",
            "5 * 7 = 35\n",
            "5 * 8 = 40\n",
            "5 * 9 = 45\n",
            "5 * 10 = 50\n"
          ]
        }
      ]
    },
    {
      "cell_type": "code",
      "source": [
        "# write a function to find area of a circle\n",
        "def area_circle():\n",
        "  r = int(input(\"enter radius:\"))\n",
        "  return 3.14*r*r\n",
        "\n",
        "area = area_circle()\n",
        "print(area)"
      ],
      "metadata": {
        "colab": {
          "base_uri": "https://localhost:8080/"
        },
        "id": "tYx7NocQjS_D",
        "outputId": "689da259-a3bb-496c-93e9-4d2a79e3dc64"
      },
      "execution_count": 24,
      "outputs": [
        {
          "output_type": "stream",
          "name": "stdout",
          "text": [
            "enter radius:3\n",
            "28.259999999999998\n"
          ]
        }
      ]
    },
    {
      "cell_type": "code",
      "source": [
        "# write a function to print the length of a string\n",
        "def len_str():\n",
        "  str_input = input(\"enter a string:\")\n",
        "  return len(str_input)\n",
        "\n",
        "# Call the function to get the length\n",
        "string_length = len_str()\n",
        "print(string_length)"
      ],
      "metadata": {
        "colab": {
          "base_uri": "https://localhost:8080/"
        },
        "id": "554yCmr7jS1K",
        "outputId": "570e8cef-d0f2-4b0f-e44a-5b15c8b9a213"
      },
      "execution_count": 26,
      "outputs": [
        {
          "output_type": "stream",
          "name": "stdout",
          "text": [
            "enter a string:twelve\n",
            "6\n"
          ]
        }
      ]
    },
    {
      "cell_type": "code",
      "source": [
        "# check for a prime number given by user\n",
        "def prime_num():\n",
        "  num = int(input(\"enter a number: \"))\n",
        "  for i in range(2,num):\n",
        "    if num%i==0:\n",
        "      print(\"not prime\")\n",
        "      break\n",
        "  else:\n",
        "    print(\"prime\")\n",
        "\n",
        "prime_num()"
      ],
      "metadata": {
        "colab": {
          "base_uri": "https://localhost:8080/"
        },
        "id": "q10tnnAljSyc",
        "outputId": "34308216-39ee-4fba-d7f6-d934ebe45847"
      },
      "execution_count": 29,
      "outputs": [
        {
          "output_type": "stream",
          "name": "stdout",
          "text": [
            "enter a number: 4\n",
            "not prime\n"
          ]
        }
      ]
    },
    {
      "cell_type": "code",
      "metadata": {
        "colab": {
          "base_uri": "https://localhost:8080/"
        },
        "id": "43e66f33",
        "outputId": "74ca2e8a-f321-4c02-b19b-3c1c6e41a904"
      },
      "source": [
        "# convert a temperature from celsius to fahrenheit\n",
        "\n",
        "def celsius_to_fahrenheit(celsius):\n",
        "  \"\"\"Converts Celsius to Fahrenheit.\"\"\"\n",
        "  fahrenheit = (celsius * 9/5) + 32\n",
        "  return fahrenheit\n",
        "\n",
        "celsius_temp = int(input(\"enter temperature in celsius: \"))\n",
        "fahrenheit_temp = celsius_to_fahrenheit(celsius_temp)\n",
        "print(f\"{celsius_temp} degrees Celsius is equal to {fahrenheit_temp} degrees Fahrenheit.\")"
      ],
      "execution_count": 34,
      "outputs": [
        {
          "output_type": "stream",
          "name": "stdout",
          "text": [
            "enter temperature in celsius: 12\n",
            "12 degrees Celsius is equal to 53.6 degrees Fahrenheit.\n"
          ]
        }
      ]
    },
    {
      "cell_type": "code",
      "source": [
        "# check if a given year is a leap year or not from user input\n",
        "def leap_year():\n",
        "  year = int(input(\"enter a year: \"))\n",
        "  if (year % 4 == 0 and year % 100 != 0) or (year % 400 == 0):\n",
        "    print(f\"{year} is a leap year\")\n",
        "  else:\n",
        "    print(f\"{year} is not a leap year\")\n",
        "\n",
        "leap_year()"
      ],
      "metadata": {
        "colab": {
          "base_uri": "https://localhost:8080/"
        },
        "id": "Wi_viwDFn8qd",
        "outputId": "344f2bda-8e02-4cde-c54b-69014006d482"
      },
      "execution_count": 39,
      "outputs": [
        {
          "output_type": "stream",
          "name": "stdout",
          "text": [
            "enter a year: 400\n",
            "400 is a leap year\n"
          ]
        }
      ]
    },
    {
      "cell_type": "code",
      "source": [],
      "metadata": {
        "id": "AY2QpZZrn8in"
      },
      "execution_count": null,
      "outputs": []
    },
    {
      "cell_type": "code",
      "source": [],
      "metadata": {
        "id": "8eh0mIfvn8Zv"
      },
      "execution_count": null,
      "outputs": []
    }
  ]
}