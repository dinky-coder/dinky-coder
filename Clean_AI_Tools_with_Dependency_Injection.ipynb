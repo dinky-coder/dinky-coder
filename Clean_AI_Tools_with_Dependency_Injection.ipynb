{
  "nbformat": 4,
  "nbformat_minor": 0,
  "metadata": {
    "colab": {
      "provenance": [],
      "authorship_tag": "ABX9TyNpDeGmBOiEwFEl4B8nMYDt",
      "include_colab_link": true
    },
    "kernelspec": {
      "name": "python3",
      "display_name": "Python 3"
    },
    "language_info": {
      "name": "python"
    }
  },
  "cells": [
    {
      "cell_type": "markdown",
      "metadata": {
        "id": "view-in-github",
        "colab_type": "text"
      },
      "source": [
        "<a href=\"https://colab.research.google.com/github/dinky-coder/dinky-coder/blob/main/Clean_AI_Tools_with_Dependency_Injection.ipynb\" target=\"_parent\"><img src=\"https://colab.research.google.com/assets/colab-badge.svg\" alt=\"Open In Colab\"/></a>"
      ]
    },
    {
      "cell_type": "markdown",
      "source": [
        "Decoupling Tools from Agent and Other Dependencies"
      ],
      "metadata": {
        "id": "SWT8qXddjeQo"
      }
    },
    {
      "cell_type": "code",
      "metadata": {
        "id": "aa791dae"
      },
      "source": [
        "from typing import Callable, Any, Dict, List\n",
        "\n",
        "_TOOLS: Dict[str, Dict[str, Any]] = {}\n",
        "\n",
        "def register_tool(\n",
        "    description: str,\n",
        "    tags: List[str] = None,\n",
        ") -> Callable:\n",
        "    \"\"\"\n",
        "    Decorator to register a tool function.\n",
        "\n",
        "    Args:\n",
        "        description: A brief description of the tool's purpose.\n",
        "        tags: A list of tags for categorizing the tool.\n",
        "\n",
        "    Returns:\n",
        "        A decorator function that registers the tool.\n",
        "    \"\"\"\n",
        "    def decorator(func: Callable) -> Callable:\n",
        "        tool_name = func.__name__\n",
        "        _TOOLS[tool_name] = {\n",
        "            \"function\": func,\n",
        "            \"description\": description,\n",
        "            \"tags\": tags if tags is not None else []\n",
        "        }\n",
        "        return func\n",
        "    return decorator\n",
        "\n",
        "def get_tool(tool_name: str) -> Dict[str, Any]:\n",
        "    \"\"\"\n",
        "    Retrieves a registered tool by name.\n",
        "\n",
        "    Args:\n",
        "        tool_name: The name of the tool to retrieve.\n",
        "\n",
        "    Returns:\n",
        "        A dictionary containing the tool's function, description, and tags.\n",
        "    \"\"\"\n",
        "    return _TOOLS.get(tool_name)\n",
        "\n",
        "def list_tools(tag_filter: str = None) -> List[str]:\n",
        "    \"\"\"\n",
        "    Lists the names of registered tools, optionally filtered by tag.\n",
        "\n",
        "    Args:\n",
        "        tag_filter: A tag to filter tools by.\n",
        "\n",
        "    Returns:\n",
        "        A list of tool names.\n",
        "    \"\"\"\n",
        "    if tag_filter:\n",
        "        return [name for name, tool_info in _TOOLS.items() if tag_filter in tool_info.get(\"tags\", [])]\n",
        "    return list(_TOOLS.keys())"
      ],
      "execution_count": 43,
      "outputs": []
    },
    {
      "cell_type": "code",
      "execution_count": 44,
      "metadata": {
        "id": "Ol1NgYtLjWFd"
      },
      "outputs": [],
      "source": [
        "@register_tool(\n",
        "    description=\"Analyze code quality and suggest improvements\",\n",
        "    tags=[\"code_quality\"]\n",
        ")\n",
        "def analyze_code_quality(code: str) -> str:\n",
        "    \"\"\"Review code quality and suggest improvements.\"\"\"\n",
        "    # But how do we access the conversation history?\n",
        "    # We can't just import the agent instance - that would create tight coupling\n",
        "\n",
        "    return prompt_expert(\n",
        "        description_of_expert=\"\"\"\n",
        "        Senior software architect reviewing code quality\n",
        "        \"\"\",\n",
        "        prompt=f\"Review this code:\\n{code}\"\n",
        "    )"
      ]
    },
    {
      "cell_type": "code",
      "source": [
        "import uuid\n",
        "class ActionContext:\n",
        "    def __init__(self, properties: Dict=None):\n",
        "        self.context_id = str(uuid.uuid4())\n",
        "        self.properties = properties or {}\n",
        "\n",
        "    def get(self, key: str, default=None):\n",
        "        return self.properties.get(key, default)\n",
        "\n",
        "    def get_memory(self):\n",
        "        return self.properties.get(\"memory\", None)"
      ],
      "metadata": {
        "id": "fU9xgZCnkxkM"
      },
      "execution_count": 45,
      "outputs": []
    },
    {
      "cell_type": "code",
      "source": [
        "@register_tool(\n",
        "    description=\"Analyze code quality and suggest improvements\",\n",
        "    tags=[\"code_quality\"]\n",
        ")\n",
        "def analyze_code_quality(action_context: ActionContext, code: str) -> str:\n",
        "    \"\"\"Review code quality and suggest improvements.\"\"\"\n",
        "    # Get memory to understand the code's context\n",
        "    memory = action_context.get_memory()\n",
        "\n",
        "    # Extract relevant history\n",
        "    development_context = []\n",
        "    memories_list = [] # Initialize memories_list to an empty list\n",
        "    if memory: # Check if memory is not None\n",
        "        # Only attempt to get memories if memory is not None\n",
        "        memories_data = memory.get_memories()\n",
        "        if memories_data: # Check if get_memories returned something\n",
        "            memories_list = memories_data\n",
        "\n",
        "\n",
        "    if memories_list: # Now iterate over memories_list which is guaranteed to be a list\n",
        "        for mem in memories_list:\n",
        "            if mem.get(\"type\") == \"user\":\n",
        "                development_context.append(f\"User: {mem.get('content')}\")\n",
        "            # Hypothetical scenario where our agent includes the phrase \"Here's the implementation\" when it generates code\n",
        "            elif mem.get(\"type\") == \"assistant\" and \"Here's the implementation\" in mem.get(\"content\", \"\"):\n",
        "                development_context.append(f\"Implementation Decision: {mem.get('content')}\")\n",
        "\n",
        "\n",
        "    # Create review prompt with full context\n",
        "    review_prompt = (\n",
        "        \"Review this code in the context of its development history:\\n\\n\"\n",
        "        \"Development History:\\n\"\n",
        "        + '\\n'.join(development_context) +\n",
        "        \"\\n\\nCurrent Implementation:\\n\"\n",
        "        f\"{code}\\n\\n\" # Use f-string for embedding the 'code' variable\n",
        "        \"Analyze:\\n\"\n",
        "        \"1. Does the implementation meet all stated requirements?\\n\"\n",
        "        \"2. Are all constraints and considerations from the discussion addressed?\\n\"\n",
        "        \"3. Have any requirements or constraints been overlooked?\\n\"\n",
        "        \"4. What improvements could make the code better while staying within the discussed parameters?\\n\"\n",
        "    )\n",
        "\n",
        "\n",
        "    generate_response = action_context.get(\"llm\")\n",
        "    # Ensure generate_response is callable before calling\n",
        "    if callable(generate_response):\n",
        "        return generate_response(review_prompt)\n",
        "    else:\n",
        "        return \"Error: LLM generation function not provided in action context.\""
      ],
      "metadata": {
        "id": "lF4ZT8jXlfJS"
      },
      "execution_count": 50,
      "outputs": []
    },
    {
      "cell_type": "markdown",
      "source": [
        "Handling Session or Request-Specific Dependencies"
      ],
      "metadata": {
        "id": "ORbcX_vun3uH"
      }
    },
    {
      "cell_type": "code",
      "source": [
        "@register_tool(\n",
        "    description=\"Update code review status in project management system\",\n",
        "    tags=[\"project_management\"]\n",
        ")\n",
        "def update_review_status(action_context: ActionContext,\n",
        "                        review_id: str,\n",
        "                        status: str) -> dict:\n",
        "    \"\"\"Update the status of a code review in the project system.\"\"\"\n",
        "    # Get the authentication token for this specific request\n",
        "    auth_token = action_context.get(\"auth_token\")\n",
        "    if not auth_token:\n",
        "        raise ValueError(\"Authentication token not found in context\")\n",
        "\n",
        "    # Make authenticated request\n",
        "    headers = {\n",
        "        \"Authorization\": f\"Bearer {auth_token}\",\n",
        "        \"Content-Type\": \"application/json\"\n",
        "    }\n",
        "\n",
        "    response = requests.post(\n",
        "        f\"https://...someapi.../reviews/{review_id}/status\",\n",
        "        headers=headers,\n",
        "        json={\"status\": status}\n",
        "    )\n",
        "\n",
        "    if response.status_code != 200:\n",
        "        raise ValueError(f\"Failed to update review status: {response.text}\")\n",
        "\n",
        "    return {\"status\": \"updated\", \"review_id\": review_id}"
      ],
      "metadata": {
        "id": "AwPOw6Tin8b0"
      },
      "execution_count": 51,
      "outputs": []
    },
    {
      "cell_type": "code",
      "metadata": {
        "id": "76badbdd"
      },
      "source": [
        "# Define a placeholder Agent class\n",
        "class Agent:\n",
        "    def run(self, user_input: str, memory=None, action_context_props=None):\n",
        "        \"\"\"Placeholder run method.\"\"\"\n",
        "        print(f\"Agent run with input: {user_input}\")\n",
        "        # In a real scenario, this would involve tool calling, etc.\n",
        "        pass\n",
        "\n",
        "    def construct_prompt(self, action_context, goals, memory):\n",
        "        \"\"\"Placeholder method to construct prompt.\"\"\"\n",
        "        return \"Placeholder prompt\"\n",
        "\n",
        "    def prompt_llm_for_action(self, action_context, prompt):\n",
        "        \"\"\"Placeholder method to prompt LLM.\"\"\"\n",
        "        # In a real scenario, this would interact with an LLM and return a response\n",
        "        return \"Placeholder response\"\n",
        "\n",
        "    def handle_agent_response(self, action_context, response):\n",
        "        \"\"\"Placeholder method to handle agent response.\"\"\"\n",
        "        print(f\"Handling agent response: {response}\")\n",
        "        # In a real scenario, this would parse the response and potentially call tools\n",
        "        return \"Placeholder result\"\n",
        "\n",
        "    def should_terminate(self, action_context, response):\n",
        "        \"\"\"Placeholder method to determine if agent should terminate.\"\"\"\n",
        "        # In a real scenario, this would have termination logic\n",
        "        return True # Terminate immediately for this placeholder\n",
        "\n",
        "\n",
        "# Instantiate the placeholder agent\n",
        "some_agent = Agent()"
      ],
      "execution_count": 53,
      "outputs": []
    },
    {
      "cell_type": "code",
      "source": [
        "def run(self, user_input: str, memory=None, action_context_props=None):\n",
        "    \"\"\"Execute the agent loop.\"\"\"\n",
        "    memory = memory or Memory()\n",
        "\n",
        "    # Create context with all necessary resources\n",
        "    action_context = ActionContext({\n",
        "        'memory': memory,\n",
        "        'llm': self.generate_response,\n",
        "        # Request-specific auth\n",
        "        **action_context_props\n",
        "    })\n",
        "\n",
        "    while True:\n",
        "        prompt = self.construct_prompt(action_context, self.goals, memory)\n",
        "        response = self.prompt_llm_for_action(action_context, prompt)\n",
        "        result = self.handle_agent_response(action_context, response)\n",
        "\n",
        "        if self.should_terminate(action_context, response):\n",
        "            break\n",
        "\n",
        "...\n",
        "# Run the agent and create custom context for the action to\n",
        "# pass to tools that need it\n",
        "some_agent.run(\"Update the project status...\",\n",
        "               memory=...,\n",
        "               # Pass request-specific auth token\n",
        "               action_context_props={\"auth_token\": \"my_auth_token\"})"
      ],
      "metadata": {
        "colab": {
          "base_uri": "https://localhost:8080/"
        },
        "id": "wEqS4pXOovBd",
        "outputId": "e792fdf2-9629-42d4-e60c-8cf385c9ad84"
      },
      "execution_count": 54,
      "outputs": [
        {
          "output_type": "stream",
          "name": "stdout",
          "text": [
            "Agent run with input: Update the project status...\n"
          ]
        }
      ]
    }
  ]
}