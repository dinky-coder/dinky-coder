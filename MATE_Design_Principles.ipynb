{
  "nbformat": 4,
  "nbformat_minor": 0,
  "metadata": {
    "colab": {
      "provenance": [],
      "authorship_tag": "ABX9TyNkc2UW1fDYa0SIXtEaAhKJ",
      "include_colab_link": true
    },
    "kernelspec": {
      "name": "python3",
      "display_name": "Python 3"
    },
    "language_info": {
      "name": "python"
    }
  },
  "cells": [
    {
      "cell_type": "markdown",
      "metadata": {
        "id": "view-in-github",
        "colab_type": "text"
      },
      "source": [
        "<a href=\"https://colab.research.google.com/github/dinky-coder/dinky-coder/blob/main/MATE_Design_Principles.ipynb\" target=\"_parent\"><img src=\"https://colab.research.google.com/assets/colab-badge.svg\" alt=\"Open In Colab\"/></a>"
      ]
    },
    {
      "cell_type": "code",
      "metadata": {
        "id": "4506cb5f"
      },
      "source": [
        "from typing import Callable, Any, Dict\n",
        "\n",
        "# Define a simple ActionContext class (replace with your actual implementation)\n",
        "class ActionContext:\n",
        "    def get(self, key: str) -> Any:\n",
        "        \"\"\"Retrieves a value from the context.\"\"\"\n",
        "        # In a real application, this would return appropriate resources\n",
        "        # like different LLM models based on the key (e.g., \"fast_llm\", \"powerful_llm\").\n",
        "        # For this example, we'll return a mock function.\n",
        "        print(f\"Retrieving '{key}' from ActionContext.\")\n",
        "        # Return a mock LLM model that just echoes the prompt for demonstration\n",
        "        return lambda prompt: f\"Mock LLM response to: {prompt}\"\n",
        "\n",
        "# Define the register_tool decorator\n",
        "def register_tool(description: str) -> Callable:\n",
        "    \"\"\"Decorator to register a function as a tool.\"\"\"\n",
        "    def decorator(func: Callable) -> Callable:\n",
        "        # Here you would typically store the function and its description\n",
        "        # in a registry that the agent can access.\n",
        "        # For this example, we'll just add an attribute to the function.\n",
        "        func.description = description\n",
        "        print(f\"Registered tool '{func.__name__}' with description: {description}\")\n",
        "        return func\n",
        "    return decorator\n",
        "\n",
        "# Define a simple Prompt class for demonstration\n",
        "class Prompt:\n",
        "    def __init__(self, messages: list):\n",
        "        self.messages = messages\n",
        "\n",
        "    def __str__(self):\n",
        "        return str(self.messages)\n",
        "\n",
        "import json"
      ],
      "execution_count": 2,
      "outputs": []
    },
    {
      "cell_type": "markdown",
      "source": [
        "Model Efficiency: Choose Your Pieces Wisely"
      ],
      "metadata": {
        "id": "Uo1Cli2HUq6f"
      }
    },
    {
      "cell_type": "code",
      "execution_count": 3,
      "metadata": {
        "colab": {
          "base_uri": "https://localhost:8080/"
        },
        "id": "eoXysjZIUfmo",
        "outputId": "7b223f4f-3a6b-4a83-8600-74b6904558e5"
      },
      "outputs": [
        {
          "output_type": "stream",
          "name": "stdout",
          "text": [
            "Registered tool 'extract_contact_info' with description: Extract basic contact information from text\n",
            "Registered tool 'analyze_technical_doc' with description: Analyze complex technical documentation\n"
          ]
        }
      ],
      "source": [
        "@register_tool(description=\"Extract basic contact information from text\")\n",
        "def extract_contact_info(action_context: ActionContext, text: str) -> dict:\n",
        "    \"\"\"Extract name, email, and phone from text using a smaller, faster model.\"\"\"\n",
        "    # Use a smaller model for simple extraction\n",
        "    response = action_context.get(\"fast_llm\")(Prompt(messages=[\n",
        "        {\"role\": \"system\", \"content\": \"Extract contact information in JSON format.\"},\n",
        "        {\"role\": \"user\", \"content\": text}\n",
        "    ]))\n",
        "    return json.loads(response)\n",
        "\n",
        "@register_tool(description=\"Analyze complex technical documentation\")\n",
        "def analyze_technical_doc(action_context: ActionContext, document: str) -> dict:\n",
        "    \"\"\"Perform deep analysis of technical documentation.\"\"\"\n",
        "    # Use a more capable model for complex analysis\n",
        "    response = action_context.get(\"powerful_llm\")(Prompt(messages=[\n",
        "        {\"role\": \"system\", \"content\": \"Analyze technical this documentation thoroughly to identify potential contradictions in process that could lead to unexpected problems.\"},\n",
        "        {\"role\": \"user\", \"content\": document}\n",
        "    ]))\n",
        "    return json.loads(response)"
      ]
    },
    {
      "cell_type": "markdown",
      "source": [
        "Action Specificity: Control the Board"
      ],
      "metadata": {
        "id": "HFF0VxpXVnFx"
      }
    },
    {
      "cell_type": "code",
      "source": [
        "# Too generic - opens up possibilities for misuse\n",
        "@register_tool(description=\"Modify calendar events\")\n",
        "def update_calendar(action_context: ActionContext,\n",
        "                   event_id: str,\n",
        "                   updates: dict) -> dict:\n",
        "    \"\"\"Update any aspect of a calendar event.\"\"\"\n",
        "    return calendar.update_event(event_id, updates)\n",
        "\n",
        "# More specific - clear purpose and limited scope\n",
        "@register_tool(description=\"Reschedule a meeting you own to a new time\")\n",
        "def reschedule_my_meeting(action_context: ActionContext,\n",
        "                         event_id: str,\n",
        "                         new_start_time: str,\n",
        "                         new_duration_minutes: int) -> dict:\n",
        "    \"\"\"\n",
        "    Reschedule a meeting you own to a new time.\n",
        "    Only works for meetings where you are the organizer.\n",
        "    \"\"\"\n",
        "    # Verify ownership\n",
        "    event = calendar.get_event(event_id)\n",
        "    if event.organizer != action_context.get(\"user_email\"):\n",
        "        raise ValueError(\"Can only reschedule meetings you organize\")\n",
        "\n",
        "    # Validate new time is in the future\n",
        "    new_start = datetime.fromisoformat(new_start_time)\n",
        "    if new_start < datetime.now():\n",
        "        raise ValueError(\"Cannot schedule meetings in the past\")\n",
        "\n",
        "    return calendar.update_event_time(\n",
        "        event_id,\n",
        "        new_start_time=new_start_time,\n",
        "        duration_minutes=new_duration_minutes\n",
        "    )"
      ],
      "metadata": {
        "colab": {
          "base_uri": "https://localhost:8080/"
        },
        "id": "85bE1TrMVsWu",
        "outputId": "634a10ea-6523-47a9-c806-300e730c9d59"
      },
      "execution_count": 4,
      "outputs": [
        {
          "output_type": "stream",
          "name": "stdout",
          "text": [
            "Registered tool 'update_calendar' with description: Modify calendar events\n",
            "Registered tool 'reschedule_my_meeting' with description: Reschedule a meeting you own to a new time\n"
          ]
        }
      ]
    },
    {
      "cell_type": "markdown",
      "source": [
        "Token Efficiency: Maximize Every Move"
      ],
      "metadata": {
        "id": "7o7xDb1iWBuJ"
      }
    },
    {
      "cell_type": "code",
      "source": [
        "# Token inefficient - includes unnecessary context\n",
        "@register_tool(description=\"Analyze sales data to identify trends and patterns...\")\n",
        "def analyze_sales(action_context: ActionContext, data: str) -> str:\n",
        "    \"\"\"\n",
        "    This function will analyze sales data to identify trends and patterns.\n",
        "    It looks at various aspects including:\n",
        "    - Monthly trends\n",
        "    - Seasonal patterns\n",
        "    - Year-over-year growth\n",
        "    - Product category performance\n",
        "    - Regional variations\n",
        "    - Customer segments\n",
        "\n",
        "    The analysis will be thorough and consider multiple factors...\n",
        "    [More verbose documentation]\n",
        "    \"\"\"\n",
        "\n",
        "    # This prompt asks for unneeded analysis, leading to both a waste of input and output tokens\n",
        "    return prompt_llm(action_context, f\"\"\"\n",
        "        Analyze this sales data thoroughly. Consider monthly trends,\n",
        "        seasonal patterns, year-over-year growth, product categories,\n",
        "        regional variations, and customer segments. Provide detailed\n",
        "        insights about all these aspects.\n",
        "\n",
        "        Data: {data}\n",
        "\n",
        "        Please give a comprehensive analysis...\n",
        "    \"\"\")\n",
        "\n",
        "# Token efficient - focused and precise\n",
        "@register_tool(description=\"Analyze sales data for key trends\")\n",
        "def analyze_sales(action_context: ActionContext, data: str) -> str:\n",
        "    \"\"\"Calculate key sales metrics and identify significant trends.\"\"\"\n",
        "\n",
        "    # This prompt is focused and precise, using tokens efficiently\n",
        "    return prompt_llm(action_context, f\"\"\"\n",
        "        Sales Data: {data}\n",
        "        1. Calculate YoY growth\n",
        "        2. Identify top 3 trends\n",
        "        3. Flag significant anomalies\n",
        "    \"\"\")"
      ],
      "metadata": {
        "colab": {
          "base_uri": "https://localhost:8080/"
        },
        "id": "IMMaUUbGWGyg",
        "outputId": "34a51b39-ff4d-4211-ffea-0e4716eae099"
      },
      "execution_count": 5,
      "outputs": [
        {
          "output_type": "stream",
          "name": "stdout",
          "text": [
            "Registered tool 'analyze_sales' with description: Analyze sales data to identify trends and patterns...\n",
            "Registered tool 'analyze_sales' with description: Analyze sales data for key trends\n"
          ]
        }
      ]
    }
  ]
}