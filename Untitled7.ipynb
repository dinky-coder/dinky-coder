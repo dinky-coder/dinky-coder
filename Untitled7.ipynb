{
  "nbformat": 4,
  "nbformat_minor": 0,
  "metadata": {
    "colab": {
      "provenance": [],
      "authorship_tag": "ABX9TyM1Nk9YAYd16hDjEzvLRGqV",
      "include_colab_link": true
    },
    "kernelspec": {
      "name": "python3",
      "display_name": "Python 3"
    },
    "language_info": {
      "name": "python"
    }
  },
  "cells": [
    {
      "cell_type": "markdown",
      "metadata": {
        "id": "view-in-github",
        "colab_type": "text"
      },
      "source": [
        "<a href=\"https://colab.research.google.com/github/dinky-coder/dinky-coder/blob/main/Untitled7.ipynb\" target=\"_parent\"><img src=\"https://colab.research.google.com/assets/colab-badge.svg\" alt=\"Open In Colab\"/></a>"
      ]
    },
    {
      "cell_type": "markdown",
      "source": [
        "Agent Interaction Patterns in Multi-Agent Systems\n",
        "# Memory Interaction Patterns in Multi-Agent Systems"
      ],
      "metadata": {
        "id": "eWBzuD0NPWVn"
      }
    },
    {
      "cell_type": "markdown",
      "source": [
        "Message Passing: The Basic Pattern"
      ],
      "metadata": {
        "id": "qPIO-4SYPoAs"
      }
    },
    {
      "cell_type": "code",
      "metadata": {
        "id": "be575957"
      },
      "source": [
        "def register_tool():\n",
        "    \"\"\"Placeholder decorator for registering tools.\"\"\"\n",
        "    def decorator(func):\n",
        "        # In a real implementation, this decorator would likely register\n",
        "        # the function 'func' with a tool registry or similar mechanism.\n",
        "        print(f\"Registering tool: {func.__name__}\")\n",
        "        return func\n",
        "    return decorator"
      ],
      "execution_count": 2,
      "outputs": []
    },
    {
      "cell_type": "code",
      "metadata": {
        "id": "aeaa3475"
      },
      "source": [
        "# Placeholder definitions for ActionContext and AgentRegistry\n",
        "class AgentRegistry:\n",
        "    \"\"\"Placeholder for an agent registry.\"\"\"\n",
        "    def get_agent(self, agent_name):\n",
        "        \"\"\"Placeholder method to get an agent.\"\"\"\n",
        "        print(f\"Placeholder: Getting agent '{agent_name}'\")\n",
        "        # In a real implementation, this would return an actual agent object\n",
        "        # For this placeholder, we return a simple mock agent\n",
        "        def mock_agent(user_input, memory):\n",
        "            print(f\"Placeholder: Running mock agent with input: '{user_input}'\")\n",
        "            # Simulate adding a result to memory\n",
        "            memory.add_item({\"content\": f\"Mock agent response to: {user_input}\"})\n",
        "            return memory\n",
        "        return mock_agent\n",
        "\n",
        "class ActionContext:\n",
        "    \"\"\"Placeholder for an action context.\"\"\"\n",
        "    def get_agent_registry(self):\n",
        "        \"\"\"Placeholder method to get the agent registry.\"\"\"\n",
        "        print(\"Placeholder: Getting agent registry\")\n",
        "        return AgentRegistry()\n",
        "\n",
        "class Memory:\n",
        "    \"\"\"Placeholder for a memory object.\"\"\"\n",
        "    def __init__(self):\n",
        "        self.items = []\n",
        "\n",
        "    def add_item(self, item):\n",
        "        \"\"\"Placeholder method to add an item to memory.\"\"\"\n",
        "        print(f\"Placeholder: Adding item to memory: {item}\")\n",
        "        self.items.append(item)\n",
        "\n",
        "    @property\n",
        "    def items(self):\n",
        "        return self._items\n",
        "\n",
        "    @items.setter\n",
        "    def items(self, value):\n",
        "        self._items = value"
      ],
      "execution_count": 5,
      "outputs": []
    },
    {
      "cell_type": "code",
      "execution_count": 6,
      "metadata": {
        "colab": {
          "base_uri": "https://localhost:8080/"
        },
        "id": "_P65QrvaPT5V",
        "outputId": "c8c54dc5-4335-4265-f0ba-6a1b4f24fa53"
      },
      "outputs": [
        {
          "output_type": "stream",
          "name": "stdout",
          "text": [
            "Registering tool: call_agent\n"
          ]
        }
      ],
      "source": [
        "@register_tool()\n",
        "def call_agent(action_context: ActionContext,\n",
        "               agent_name: str,\n",
        "               task: str) -> dict:\n",
        "    \"\"\"Basic message passing between agents.\"\"\"\n",
        "    agent_registry = action_context.get_agent_registry()\n",
        "    agent_run = agent_registry.get_agent(agent_name)\n",
        "\n",
        "    # Create fresh memory for the invoked agent\n",
        "    invoked_memory = Memory()\n",
        "\n",
        "    # Run agent and get result\n",
        "    result_memory = agent_run(\n",
        "        user_input=task,\n",
        "        memory=invoked_memory\n",
        "    )\n",
        "\n",
        "    # Return only the final memory item\n",
        "    return {\n",
        "        \"result\": result_memory.items[-1].get(\"content\", \"No result\")\n",
        "    }"
      ]
    },
    {
      "cell_type": "markdown",
      "source": [
        "Memory Reflection: Learning from the Process"
      ],
      "metadata": {
        "id": "K3dvhkraR8C-"
      }
    },
    {
      "cell_type": "code",
      "source": [
        "@register_tool()\n",
        "def call_agent_with_reflection(action_context: ActionContext,\n",
        "                             agent_name: str,\n",
        "                             task: str) -> dict:\n",
        "    \"\"\"Call agent and receive their full thought process.\"\"\"\n",
        "    agent_registry = action_context.get_agent_registry()\n",
        "    agent_run = agent_registry.get_agent(agent_name)\n",
        "\n",
        "    # Create fresh memory for invoked agent\n",
        "    invoked_memory = Memory()\n",
        "\n",
        "    # Run agent\n",
        "    result_memory = agent_run(\n",
        "        user_input=task,\n",
        "        memory=invoked_memory\n",
        "    )\n",
        "\n",
        "    # Get the caller's memory\n",
        "    caller_memory = action_context.get_memory()\n",
        "\n",
        "    # Add all memories from invoked agent to caller\n",
        "    # although we could leave off the last memory to\n",
        "    # avoid duplication\n",
        "    for memory_item in result_memory.items:\n",
        "        caller_memory.add_memory({\n",
        "            \"type\": f\"{agent_name}_thought\",  # Mark source of memory\n",
        "            \"content\": memory_item[\"content\"]\n",
        "        })\n",
        "\n",
        "    return {\n",
        "        \"result\": result_memory.items[-1].get(\"content\", \"No result\"),\n",
        "        \"memories_added\": len(result_memory.items)\n",
        "    }"
      ],
      "metadata": {
        "colab": {
          "base_uri": "https://localhost:8080/"
        },
        "id": "jjoyKbpLR_8t",
        "outputId": "17c0d9b9-1ab1-4569-86eb-c69d49031969"
      },
      "execution_count": 7,
      "outputs": [
        {
          "output_type": "stream",
          "name": "stdout",
          "text": [
            "Registering tool: call_agent_with_reflection\n"
          ]
        }
      ]
    },
    {
      "cell_type": "markdown",
      "source": [
        "Memory Handoff: Continuing the Conversation"
      ],
      "metadata": {
        "id": "wtjVhlxMSe4f"
      }
    },
    {
      "cell_type": "code",
      "source": [
        "@register_tool()\n",
        "def hand_off_to_agent(action_context: ActionContext,\n",
        "                      agent_name: str,\n",
        "                      task: str) -> dict:\n",
        "    \"\"\"Transfer control to another agent with shared memory.\"\"\"\n",
        "    agent_registry = action_context.get_agent_registry()\n",
        "    agent_run = agent_registry.get_agent(agent_name)\n",
        "\n",
        "    # Get the current memory to hand off\n",
        "    current_memory = action_context.get_memory()\n",
        "\n",
        "    # Run agent with existing memory\n",
        "    result_memory = agent_run(\n",
        "        user_input=task,\n",
        "        memory=current_memory  # Pass the existing memory\n",
        "    )\n",
        "\n",
        "    return {\n",
        "        \"result\": result_memory.items[-1].get(\"content\", \"No result\"),\n",
        "        \"memory_id\": id(result_memory)\n",
        "    }"
      ],
      "metadata": {
        "colab": {
          "base_uri": "https://localhost:8080/"
        },
        "id": "5ZEVXU-OSiFT",
        "outputId": "115b6aec-9222-466b-9576-f565991c47e6"
      },
      "execution_count": 8,
      "outputs": [
        {
          "output_type": "stream",
          "name": "stdout",
          "text": [
            "Registering tool: hand_off_to_agent\n"
          ]
        }
      ]
    }
  ]
}