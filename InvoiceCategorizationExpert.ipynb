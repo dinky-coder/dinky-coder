{
  "nbformat": 4,
  "nbformat_minor": 0,
  "metadata": {
    "colab": {
      "provenance": [],
      "authorship_tag": "ABX9TyOxO9PMNxiVZGXRPDKQ0sVO",
      "include_colab_link": true
    },
    "kernelspec": {
      "name": "python3",
      "display_name": "Python 3"
    },
    "language_info": {
      "name": "python"
    }
  },
  "cells": [
    {
      "cell_type": "markdown",
      "metadata": {
        "id": "view-in-github",
        "colab_type": "text"
      },
      "source": [
        "<a href=\"https://colab.research.google.com/github/dinky-coder/dinky-coder/blob/main/InvoiceCategorizationExpert.ipynb\" target=\"_parent\"><img src=\"https://colab.research.google.com/assets/colab-badge.svg\" alt=\"Open In Colab\"/></a>"
      ]
    },
    {
      "cell_type": "markdown",
      "source": [
        "Invoice Processing with Experts\n",
        "\n",
        "A Complete Persona Pattern Example\n",
        "\n",
        "Enhancing Invoice Processing with Expert Tools\n",
        "\n",
        "Step 1: Creating the Invoice Categorization Expert\n",
        "\n"
      ],
      "metadata": {
        "id": "nP62IWrUM82R"
      }
    },
    {
      "cell_type": "code",
      "metadata": {
        "id": "683f3172"
      },
      "source": [
        "from typing import Any, Callable, List, Dict\n",
        "\n",
        "# Placeholder for ActionContext - Replace with your actual definition\n",
        "class ActionContext:\n",
        "    \"\"\"Placeholder for ActionContext.\"\"\"\n",
        "    pass\n",
        "\n",
        "def register_tool(tags: List[str]):\n",
        "    \"\"\"\n",
        "    Decorator to register a function as a tool with associated tags.\n",
        "\n",
        "    Args:\n",
        "        tags: A list of strings representing tags for the tool.\n",
        "    \"\"\"\n",
        "    def decorator(func: Callable[..., Any]) -> Callable[..., Any]:\n",
        "        # Here you would typically add the function 'func' to a registry\n",
        "        # or perform other actions based on the tags.\n",
        "        # For now, we'll just attach the tags to the function itself.\n",
        "        func.tags = tags\n",
        "        return func\n",
        "    return decorator\n",
        "\n",
        "# Placeholder for prompt_expert - Replace with your actual definition\n",
        "def prompt_expert(action_context: ActionContext, description_of_expert: str, prompt: str) -> str:\n",
        "    \"\"\"Placeholder for prompt_expert.\"\"\"\n",
        "    print(f\"Prompting expert: {description_of_expert}\")\n",
        "    print(f\"With prompt: {prompt}\")\n",
        "    # In a real scenario, this would interact with an expert system or model\n",
        "    # and return a category based on the prompt.\n",
        "    # For demonstration, returning a dummy category.\n",
        "    return \"Miscellaneous\""
      ],
      "execution_count": 2,
      "outputs": []
    },
    {
      "cell_type": "code",
      "execution_count": 3,
      "metadata": {
        "id": "120M6HmiLNpi"
      },
      "outputs": [],
      "source": [
        "@register_tool(tags=[\"invoice_processing\", \"categorization\"])\n",
        "def categorize_expenditure(action_context: ActionContext, description: str) -> str:\n",
        "    \"\"\"\n",
        "    Categorize an invoice expenditure based on a short description.\n",
        "\n",
        "    Args:\n",
        "        description: A one-sentence summary of the expenditure.\n",
        "\n",
        "    Returns:\n",
        "        A category name from the predefined set of 20 categories.\n",
        "    \"\"\"\n",
        "    categories = [\n",
        "        \"Office Supplies\", \"IT Equipment\", \"Software Licenses\", \"Consulting Services\",\n",
        "        \"Travel Expenses\", \"Marketing\", \"Training & Development\", \"Facilities Maintenance\",\n",
        "        \"Utilities\", \"Legal Services\", \"Insurance\", \"Medical Services\", \"Payroll\",\n",
        "        \"Research & Development\", \"Manufacturing Supplies\", \"Construction\", \"Logistics\",\n",
        "        \"Customer Support\", \"Security Services\", \"Miscellaneous\"\n",
        "    ]\n",
        "\n",
        "    return prompt_expert(\n",
        "        action_context=action_context,\n",
        "        description_of_expert=\"A senior financial analyst with deep expertise in corporate spending categorization.\",\n",
        "        prompt=f\"Given the following description: '{description}', classify the expense into one of these categories:\\n{categories}\"\n",
        "    )"
      ]
    },
    {
      "cell_type": "markdown",
      "source": [
        "Step 2: Creating the Purchasing Rules Expert who Generates Structured Responses Rather than Free Text\n",
        "\n",
        "---\n",
        "\n"
      ],
      "metadata": {
        "id": "0fBxHuexN4H2"
      }
    },
    {
      "cell_type": "code",
      "source": [
        "@register_tool(tags=[\"invoice_processing\", \"validation\"])\n",
        "def check_purchasing_rules(action_context: ActionContext, invoice_data: dict) -> dict:\n",
        "    \"\"\"\n",
        "    Validate an invoice against company purchasing policies, returning a structured response.\n",
        "\n",
        "    Args:\n",
        "        invoice_data: Extracted invoice details, including vendor, amount, and line items.\n",
        "\n",
        "    Returns:\n",
        "        A structured JSON response indicating whether the invoice is compliant and why.\n",
        "    \"\"\"\n",
        "    rules_path = \"config/purchasing_rules.txt\"\n",
        "\n",
        "    try:\n",
        "        with open(rules_path, \"r\") as f:\n",
        "            purchasing_rules = f.read()\n",
        "    except FileNotFoundError:\n",
        "        purchasing_rules = \"No rules available. Assume all invoices are compliant.\"\n",
        "\n",
        "    validation_schema = {\n",
        "        \"type\": \"object\",\n",
        "        \"properties\": {\n",
        "            \"compliant\": {\"type\": \"boolean\"},\n",
        "            \"issues\": {\"type\": \"string\"}\n",
        "        }\n",
        "    }\n",
        "\n",
        "    return prompt_llm_for_json(\n",
        "        action_context=action_context,\n",
        "        schema=validation_schema,\n",
        "        prompt=f\"\"\"\n",
        "        Given this invoice data: {invoice_data}, check whether it complies with company purchasing rules.\n",
        "        The latest purchasing rules are as follows:\n",
        "\n",
        "        {purchasing_rules}\n",
        "\n",
        "        Respond with a JSON object containing:\n",
        "        - `compliant`: true if the invoice follows all policies, false otherwise.\n",
        "        - `issues`: A brief explanation of any violations or missing requirements.\n",
        "        \"\"\"\n",
        "    )"
      ],
      "metadata": {
        "id": "1ZdICEzfN-6F"
      },
      "execution_count": 11,
      "outputs": []
    },
    {
      "cell_type": "markdown",
      "source": [
        "Step 3: Updating the Invoice Processing Agent"
      ],
      "metadata": {
        "id": "Q8qOVK_KPkjy"
      }
    },
    {
      "cell_type": "code",
      "source": [
        "# Placeholder definitions for missing classes and functions\n",
        "class PythonActionRegistry:\n",
        "    def __init__(self):\n",
        "        print(\"PythonActionRegistry initialized\")\n",
        "        self._actions = {}\n",
        "\n",
        "    def register(self, action):\n",
        "        self._actions[action.__name__] = action\n",
        "        print(f\"Registered action: {action.__name__}\")\n",
        "\n",
        "class Goal:\n",
        "    def __init__(self, name: str, description: str):\n",
        "        self.name = name\n",
        "        self.description = description\n",
        "        print(f\"Goal created: {self.name}\")\n",
        "\n",
        "class AgentFunctionCallingActionLanguage:\n",
        "    def __init__(self):\n",
        "        print(\"AgentFunctionCallingActionLanguage initialized\")\n",
        "\n",
        "# Placeholder for prompt_llm_for_json\n",
        "def prompt_llm_for_json(action_context: ActionContext, schema: Dict[str, Any], prompt: str) -> Dict[str, Any]:\n",
        "    \"\"\"Placeholder for prompt_llm_for_json.\"\"\"\n",
        "    print(f\"Prompting LLM for JSON with schema: {schema}\")\n",
        "    print(f\"With prompt: {prompt}\")\n",
        "    # In a real scenario, this would interact with an LLM to get a JSON response.\n",
        "    # For demonstration, returning a dummy compliant response.\n",
        "    return {\"compliant\": True, \"issues\": \"No issues found.\"}\n",
        "\n",
        "\n",
        "class PythonEnvironment:\n",
        "    def __init__(self):\n",
        "        print(\"PythonEnvironment initialized\")\n",
        "\n",
        "class Agent:\n",
        "    def __init__(self, goals: List[Goal], agent_language: AgentFunctionCallingActionLanguage, action_registry: PythonActionRegistry, generate_response: Callable, environment: PythonEnvironment):\n",
        "        self.goals = goals\n",
        "        self.agent_language = agent_language\n",
        "        self.action_registry = action_registry\n",
        "        self.generate_response = generate_response\n",
        "        self.environment = environment\n",
        "        print(\"Agent initialized\")\n",
        "\n",
        "    def run(self, prompt: str) -> str:\n",
        "        print(f\"Agent running with prompt: {prompt}\")\n",
        "\n",
        "        # --- Invoice Processing Logic ---\n",
        "\n",
        "        # 1. Extract key details (Placeholder - needs actual extraction logic)\n",
        "        # For now, let's assume we can parse the invoice_text\n",
        "        invoice_data = {\n",
        "            \"invoice_number\": \"4567\",\n",
        "            \"vendor\": \"Tech Solutions Inc.\",\n",
        "            \"amount\": 1500,\n",
        "            \"line_items\": [\"Laptop - $1,200\", \"External Monitor - $300\"]\n",
        "        }\n",
        "        print(f\"Extracted invoice data: {invoice_data}\")\n",
        "\n",
        "\n",
        "        # 2. Generate a one-sentence summary (Placeholder)\n",
        "        description = f\"Invoice from {invoice_data['vendor']} for IT equipment totaling ${invoice_data['amount']}.\"\n",
        "        print(f\"Generated description: {description}\")\n",
        "\n",
        "        # 3. Categorize the expenditure using an expert\n",
        "        # Need to pass an ActionContext instance - using a placeholder\n",
        "        action_context = ActionContext()\n",
        "        categorization = categorize_expenditure(action_context, description)\n",
        "        print(f\"Categorized as: {categorization}\")\n",
        "\n",
        "        # 4. Validate the invoice against purchasing policies\n",
        "        validation_result = check_purchasing_rules(action_context, invoice_data)\n",
        "        print(f\"Validation result: {validation_result}\")\n",
        "\n",
        "        # 5. Store the processed invoice (Placeholder)\n",
        "        print(\"Storing processed invoice (placeholder)...\")\n",
        "        storage_status = \"Stored successfully\" # Placeholder\n",
        "\n",
        "        # 6. Return a summary of the invoice processing results\n",
        "        compliant_status = \"Passed\" if validation_result.get(\"compliant\", False) else \"Failed\"\n",
        "        issues = validation_result.get(\"issues\", \"\")\n",
        "\n",
        "        summary = f\"\"\"Invoice #{invoice_data['invoice_number']}\n",
        "- Categorized as: {categorization}\n",
        "- Compliance Check: {compliant_status}\n",
        "- Issues: {issues}\n",
        "- {storage_status}\n",
        "\"\"\"\n",
        "        return summary"
      ],
      "metadata": {
        "id": "cpmvzt1oO0nu"
      },
      "execution_count": 10,
      "outputs": []
    },
    {
      "cell_type": "markdown",
      "source": [
        "Test the New Capabilities"
      ],
      "metadata": {
        "id": "FVRAwSjlQEih"
      }
    },
    {
      "cell_type": "code",
      "source": [
        "invoice_text = \"\"\"\n",
        "    Invoice #4567\n",
        "    Date: 2025-02-01\n",
        "    Vendor: Tech Solutions Inc.\n",
        "    Items:\n",
        "      - Laptop - $1,200\n",
        "      - External Monitor - $300\n",
        "    Total: $1,500\n",
        "\"\"\"\n",
        "\n",
        "# Create an agent instance\n",
        "agent = create_invoice_agent()\n",
        "\n",
        "# Process the invoice\n",
        "response = agent.run(f\"Process this invoice:\\n\\n{invoice_text}\")\n",
        "\n",
        "print(response)"
      ],
      "metadata": {
        "colab": {
          "base_uri": "https://localhost:8080/"
        },
        "id": "fuH4qeJMQJ7g",
        "outputId": "171375fc-fc2c-4ce6-9088-b69f64b9b85d"
      },
      "execution_count": 13,
      "outputs": [
        {
          "output_type": "stream",
          "name": "stdout",
          "text": [
            "PythonActionRegistry initialized\n",
            "Goal created: Persona\n",
            "Goal created: Process Invoices\n",
            "PythonEnvironment initialized\n",
            "AgentFunctionCallingActionLanguage initialized\n",
            "Agent initialized\n",
            "Agent running with prompt: Process this invoice:\n",
            "\n",
            "\n",
            "    Invoice #4567\n",
            "    Date: 2025-02-01\n",
            "    Vendor: Tech Solutions Inc.\n",
            "    Items: \n",
            "      - Laptop - $1,200\n",
            "      - External Monitor - $300\n",
            "    Total: $1,500\n",
            "\n",
            "Extracted invoice data: {'invoice_number': '4567', 'vendor': 'Tech Solutions Inc.', 'amount': 1500, 'line_items': ['Laptop - $1,200', 'External Monitor - $300']}\n",
            "Generated description: Invoice from Tech Solutions Inc. for IT equipment totaling $1500.\n",
            "Prompting expert: A senior financial analyst with deep expertise in corporate spending categorization.\n",
            "With prompt: Given the following description: 'Invoice from Tech Solutions Inc. for IT equipment totaling $1500.', classify the expense into one of these categories:\n",
            "['Office Supplies', 'IT Equipment', 'Software Licenses', 'Consulting Services', 'Travel Expenses', 'Marketing', 'Training & Development', 'Facilities Maintenance', 'Utilities', 'Legal Services', 'Insurance', 'Medical Services', 'Payroll', 'Research & Development', 'Manufacturing Supplies', 'Construction', 'Logistics', 'Customer Support', 'Security Services', 'Miscellaneous']\n",
            "Categorized as: Miscellaneous\n",
            "Prompting LLM for JSON with schema: {'type': 'object', 'properties': {'compliant': {'type': 'boolean'}, 'issues': {'type': 'string'}}}\n",
            "With prompt: \n",
            "        Given this invoice data: {'invoice_number': '4567', 'vendor': 'Tech Solutions Inc.', 'amount': 1500, 'line_items': ['Laptop - $1,200', 'External Monitor - $300']}, check whether it complies with company purchasing rules.\n",
            "        The latest purchasing rules are as follows:\n",
            "\n",
            "        No rules available. Assume all invoices are compliant.\n",
            "\n",
            "        Respond with a JSON object containing:\n",
            "        - `compliant`: true if the invoice follows all policies, false otherwise.\n",
            "        - `issues`: A brief explanation of any violations or missing requirements.\n",
            "        \n",
            "Validation result: {'compliant': True, 'issues': 'No issues found.'}\n",
            "Storing processed invoice (placeholder)...\n",
            "Invoice #4567\n",
            "- Categorized as: Miscellaneous\n",
            "- Compliance Check: Passed\n",
            "- Issues: No issues found.\n",
            "- Stored successfully\n",
            "\n"
          ]
        }
      ]
    }
  ]
}