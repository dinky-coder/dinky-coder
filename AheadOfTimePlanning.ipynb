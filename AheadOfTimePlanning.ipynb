{
  "nbformat": 4,
  "nbformat_minor": 0,
  "metadata": {
    "colab": {
      "provenance": [],
      "authorship_tag": "ABX9TyNqaEQH0pmZFgACBGmYfmH1",
      "include_colab_link": true
    },
    "kernelspec": {
      "name": "python3",
      "display_name": "Python 3"
    },
    "language_info": {
      "name": "python"
    }
  },
  "cells": [
    {
      "cell_type": "markdown",
      "metadata": {
        "id": "view-in-github",
        "colab_type": "text"
      },
      "source": [
        "<a href=\"https://colab.research.google.com/github/dinky-coder/dinky-coder/blob/main/AheadOfTimePlanning.ipynb\" target=\"_parent\"><img src=\"https://colab.research.google.com/assets/colab-badge.svg\" alt=\"Open In Colab\"/></a>"
      ]
    },
    {
      "cell_type": "markdown",
      "source": [
        "Ahead of Time Planning for Improving Agent Reasoning\n",
        "## Plan First: A New Capability"
      ],
      "metadata": {
        "id": "zCrfpNBfx15C"
      }
    },
    {
      "cell_type": "code",
      "metadata": {
        "id": "473db7c9"
      },
      "source": [
        "class Capability:\n",
        "    def __init__(self, name, description):\n",
        "        self.name = name\n",
        "        self.description = description\n",
        "\n",
        "    def init(self, agent, action_context):\n",
        "        pass\n",
        "\n",
        "    def process_action(self, agent, action_context):\n",
        "        pass"
      ],
      "execution_count": 25,
      "outputs": []
    },
    {
      "cell_type": "code",
      "metadata": {
        "id": "28822883"
      },
      "source": [
        "# Placeholder for the register_tool decorator\n",
        "def register_tool(tags=None):\n",
        "    def decorator(func):\n",
        "        # In a real implementation, you would register the tool here\n",
        "        # For now, we just return the original function\n",
        "        return func\n",
        "    return decorator"
      ],
      "execution_count": 26,
      "outputs": []
    },
    {
      "cell_type": "code",
      "execution_count": 27,
      "metadata": {
        "id": "MYcQJkp7xurA"
      },
      "outputs": [],
      "source": [
        "class PlanFirstCapability(Capability):\n",
        "    def __init__(self, plan_memory_type=\"system\", track_progress=False):\n",
        "        super().__init__(\n",
        "            name=\"Plan First Capability\",\n",
        "            description=\"The Agent will always create a plan and add it to memory\"\n",
        "        )\n",
        "        self.plan_memory_type = plan_memory_type\n",
        "        self.first_call = True\n",
        "        self.track_progress = track_progress\n",
        "\n",
        "    def init(self, agent, action_context):\n",
        "        if self.first_call:\n",
        "            self.first_call = False\n",
        "            plan = create_plan(\n",
        "                action_context=action_context,\n",
        "                memory=action_context.get_memory(),\n",
        "                action_registry=action_context.get_action_registry()\n",
        "            )\n",
        "\n",
        "            action_context.get_memory().add_memory({\n",
        "                \"type\": self.plan_memory_type,\n",
        "                \"content\": \"You must follow these instructions carefully to complete the task:\\n\" + plan\n",
        "            })"
      ]
    },
    {
      "cell_type": "code",
      "metadata": {
        "id": "ef551c47"
      },
      "source": [
        "# Placeholder classes for type hinting\n",
        "class ActionContext:\n",
        "    def __init__(self):\n",
        "        pass\n",
        "    def get_memory(self):\n",
        "        # Placeholder method\n",
        "        return Memory()\n",
        "    def get_action_registry(self):\n",
        "        # Placeholder method\n",
        "        return ActionRegistry()\n",
        "\n",
        "class Memory:\n",
        "    def __init__(self):\n",
        "        self.items = [] # Placeholder for memory items\n",
        "    def add_memory(self, item):\n",
        "        # Placeholder method\n",
        "        self.items.append(item)\n",
        "\n",
        "class ActionRegistry:\n",
        "    def __init__(self):\n",
        "        pass\n",
        "    def get_actions(self):\n",
        "        # Placeholder method - return a list of dummy actions\n",
        "        class DummyAction:\n",
        "            def __init__(self, name, description):\n",
        "                self.name = name\n",
        "                self.description = description\n",
        "        return [\n",
        "            DummyAction(\"tool1\", \"description of tool 1\"),\n",
        "            DummyAction(\"tool2\", \"description of tool 2\"),\n",
        "        ]\n",
        "\n",
        "# Placeholder for prompt_llm function\n",
        "def prompt_llm(action_context, prompt):\n",
        "    # Placeholder function - return a dummy plan\n",
        "    print(\"Calling LLM with prompt:\")\n",
        "    print(prompt)\n",
        "    return \"This is a dummy plan based on the prompt.\""
      ],
      "execution_count": 28,
      "outputs": []
    },
    {
      "cell_type": "code",
      "source": [
        "@register_tool(tags=[\"planning\"])\n",
        "def create_plan(action_context: ActionContext,\n",
        "                memory: Memory,\n",
        "                action_registry: ActionRegistry) -> str:\n",
        "   \"\"\"Create a detailed execution plan based on the task and available tools.\"\"\"\n",
        "\n",
        "   # Get tool descriptions for the prompt\n",
        "   tool_descriptions = \"\\n\".join(\n",
        "      f\"- {action.name}: {action.description}\"\n",
        "      for action in action_registry.get_actions()\n",
        "   )\n",
        "\n",
        "   # Get relevant memory content\n",
        "   memory_content = \"\\n\".join(\n",
        "      f\"{m['type']}: {m['content']}\"\n",
        "      for m in memory.items\n",
        "      if m['type'] in ['user', 'system']\n",
        "   )\n",
        "\n",
        "   # Construct the prompt as a string\n",
        "   prompt = f\"\"\"Given the task in memory and the available tools, create a detailed plan.\n",
        "Think through this step by step:\n",
        "\n",
        "1. First, identify the key components of the task\n",
        "2. Consider what tools you have available\n",
        "3. Break down the task into logical steps\n",
        "4. For each step, specify:\n",
        "   - What needs to be done\n",
        "   - What tool(s) will be used\n",
        "   - What information is needed\n",
        "   - What the expected outcome is\n",
        "\n",
        "Write your plan in clear, numbered steps. Each step should be specific and actionable.\n",
        "\n",
        "Available tools:\n",
        "{tool_descriptions}\n",
        "\n",
        "Task context from memory:\n",
        "{memory_content}\n",
        "\n",
        "Create a plan that accomplishes this task effectively.\"\"\"\n",
        "\n",
        "   return prompt_llm(action_context=action_context, prompt=prompt)"
      ],
      "metadata": {
        "id": "6jI3NcRlzMlY"
      },
      "execution_count": 29,
      "outputs": []
    },
    {
      "cell_type": "code",
      "metadata": {
        "id": "727b569d"
      },
      "source": [
        "# Placeholder classes for Agent and Goal\n",
        "class Agent:\n",
        "    def __init__(self, goals, capabilities):\n",
        "        self.goals = goals\n",
        "        self.capabilities = capabilities\n",
        "        self._action_context = ActionContext() # Using the placeholder ActionContext\n",
        "\n",
        "        for capability in self.capabilities:\n",
        "            capability.init(self, self._action_context)\n",
        "\n",
        "    def run(self, task):\n",
        "        # Placeholder run method\n",
        "        print(f\"Agent is running task: {task}\")\n",
        "        # In a real implementation, the agent would process the task\n",
        "        # using its capabilities and goals.\n",
        "        return \"Task simulation complete.\"\n",
        "\n",
        "class Goal:\n",
        "    def __init__(self, name, description):\n",
        "        self.name = name\n",
        "        self.description = description"
      ],
      "execution_count": 30,
      "outputs": []
    },
    {
      "cell_type": "code",
      "source": [
        "agent = Agent(\n",
        "    goals=[\n",
        "        Goal(name=\"analysis\",\n",
        "             description=\"Analyze sales data and create a report\")\n",
        "    ],\n",
        "    capabilities=[\n",
        "        PlanFirstCapability(track_progress=True)\n",
        "    ],\n",
        "    # ... other agent configuration\n",
        ")\n",
        "\n",
        "result = agent.run(\"Analyze our Q4 sales data and create a report\")"
      ],
      "metadata": {
        "colab": {
          "base_uri": "https://localhost:8080/"
        },
        "id": "zsYiRUJf0KzT",
        "outputId": "c38f4541-f0a3-457c-a600-82605ae355ea"
      },
      "execution_count": 31,
      "outputs": [
        {
          "output_type": "stream",
          "name": "stdout",
          "text": [
            "Calling LLM with prompt:\n",
            "Given the task in memory and the available tools, create a detailed plan.\n",
            "Think through this step by step:\n",
            "\n",
            "1. First, identify the key components of the task\n",
            "2. Consider what tools you have available\n",
            "3. Break down the task into logical steps\n",
            "4. For each step, specify:\n",
            "   - What needs to be done\n",
            "   - What tool(s) will be used\n",
            "   - What information is needed\n",
            "   - What the expected outcome is\n",
            "\n",
            "Write your plan in clear, numbered steps. Each step should be specific and actionable.\n",
            "\n",
            "Available tools:\n",
            "- tool1: description of tool 1\n",
            "- tool2: description of tool 2\n",
            "\n",
            "Task context from memory:\n",
            "\n",
            "\n",
            "Create a plan that accomplishes this task effectively.\n",
            "Agent is running task: Analyze our Q4 sales data and create a report\n"
          ]
        }
      ]
    }
  ]
}